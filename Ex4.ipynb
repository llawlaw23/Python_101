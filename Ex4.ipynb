{
  "nbformat": 4,
  "nbformat_minor": 0,
  "metadata": {
    "colab": {
      "provenance": [],
      "authorship_tag": "ABX9TyMnNnoE5U7u2SzOTeFILfE4",
      "include_colab_link": true
    },
    "kernelspec": {
      "name": "python3",
      "display_name": "Python 3"
    },
    "language_info": {
      "name": "python"
    }
  },
  "cells": [
    {
      "cell_type": "markdown",
      "metadata": {
        "id": "view-in-github",
        "colab_type": "text"
      },
      "source": [
        "<a href=\"https://colab.research.google.com/github/llawlaw23/Python_101/blob/Tess/Ex4.ipynb\" target=\"_parent\"><img src=\"https://colab.research.google.com/assets/colab-badge.svg\" alt=\"Open In Colab\"/></a>"
      ]
    },
    {
      "cell_type": "code",
      "source": [
        "# Create a 3×3 NumPy array with numbers from 1 to 9 using arange."
      ],
      "metadata": {
        "id": "X3JzvtO45cWG"
      },
      "execution_count": null,
      "outputs": []
    },
    {
      "cell_type": "code",
      "source": [
        "# Find the sum, mean, and max value"
      ],
      "metadata": {
        "id": "bz99EmA75dgM"
      },
      "execution_count": null,
      "outputs": []
    },
    {
      "cell_type": "code",
      "source": [
        "# Reshape it into a 1×9 array."
      ],
      "metadata": {
        "id": "V3ERanVT5fjS"
      },
      "execution_count": null,
      "outputs": []
    },
    {
      "cell_type": "code",
      "execution_count": 2,
      "metadata": {
        "id": "k93NH_7E49j6"
      },
      "outputs": [],
      "source": [
        "# Create two arrays and perform element-wise multiplication."
      ]
    },
    {
      "cell_type": "code",
      "source": [],
      "metadata": {
        "id": "yx9hwnw55O0j"
      },
      "execution_count": null,
      "outputs": []
    }
  ]
}