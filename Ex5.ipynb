{
  "nbformat": 4,
  "nbformat_minor": 0,
  "metadata": {
    "colab": {
      "provenance": [],
      "authorship_tag": "ABX9TyPp2OafvEyQlZkpxgFMzOWa"
    },
    "kernelspec": {
      "name": "python3",
      "display_name": "Python 3"
    },
    "language_info": {
      "name": "python"
    }
  },
  "cells": [
    {
      "cell_type": "markdown",
      "source": [
        "Modules & Packages\n",
        "\n",
        "    Create a module named math_ops.py with functions:\n",
        "\n",
        "    add(a, b)\n",
        "\n",
        "    subtract(a, b)\n",
        "\n",
        "    multiply(a, b)\n",
        "\n",
        "    divide(a, b)\n",
        "\n",
        "    Then import and use these functions in another script.\n",
        "\n",
        "    Create a package named shapes with:\n",
        "\n",
        "    Module circle.py → function area(r)\n",
        "\n",
        "    Module rectangle.py → function area(l, w)\n",
        "\n",
        "    Then import and test both."
      ],
      "metadata": {
        "id": "13MtHFowo5p1"
      }
    },
    {
      "cell_type": "code",
      "source": [],
      "metadata": {
        "id": "coAuYheSpdUR"
      },
      "execution_count": null,
      "outputs": []
    },
    {
      "cell_type": "markdown",
      "source": [
        "NumPy\n",
        "\n",
        "    Create a 3×3 NumPy array with values from 1 to 9.\n",
        "\n",
        "    Find:\n",
        "\n",
        "    Sum of all elements\n",
        "\n",
        "    Mean\n",
        "\n",
        "    Maximum value\n",
        "\n",
        "    Reshape it into a 1×9 array.\n",
        "\n",
        "    Create two arrays and perform:\n",
        "\n",
        "    Addition\n",
        "\n",
        "    Multiplication (element-wise)\n",
        "\n",
        "    Extract all elements greater than 5 using boolean indexing.\n",
        "\n",
        "    Create a 2D array and calculate:\n",
        "\n",
        "    The sum along each row (axis=1)\n",
        "\n",
        "    The sum along each column (axis=0)\n",
        "\n",
        "    Use NumPy to generate:\n",
        "\n",
        "    An array of 10 random integers\n",
        "\n",
        "    Sort them in ascending order\n",
        "\n",
        "    Create an array from 0 to 20 with step size 2, then reshape it into 2 rows."
      ],
      "metadata": {
        "id": "s31v39tdpLxC"
      }
    },
    {
      "cell_type": "code",
      "execution_count": null,
      "metadata": {
        "id": "E0-zMIHooqVn"
      },
      "outputs": [],
      "source": []
    },
    {
      "cell_type": "markdown",
      "source": [
        "Write a program to find the largest of three numbers."
      ],
      "metadata": {
        "id": "3rf6LHU5peVj"
      }
    },
    {
      "cell_type": "code",
      "source": [],
      "metadata": {
        "id": "8L2CXy3kpou-"
      },
      "execution_count": null,
      "outputs": []
    },
    {
      "cell_type": "markdown",
      "source": [
        "    Write a program to print numbers from 1 to 10 using a for loop.\n",
        "\n",
        "    Write a program to calculate the sum of the first 5 natural numbers.\n",
        "\n",
        "    Print a multiplication table for a given number.\n",
        "\n",
        "    Write a program that prints all even numbers between 1 and 20."
      ],
      "metadata": {
        "id": "g8yRl1nrppt8"
      }
    },
    {
      "cell_type": "code",
      "source": [],
      "metadata": {
        "id": "DrPQlZ7Rqo45"
      },
      "execution_count": null,
      "outputs": []
    }
  ]
}