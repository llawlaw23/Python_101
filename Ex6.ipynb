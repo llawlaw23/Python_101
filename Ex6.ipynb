{
  "nbformat": 4,
  "nbformat_minor": 0,
  "metadata": {
    "colab": {
      "provenance": [],
      "authorship_tag": "ABX9TyNhilklF+nBqmYwsoulcf8T"
    },
    "kernelspec": {
      "name": "python3",
      "display_name": "Python 3"
    },
    "language_info": {
      "name": "python"
    }
  },
  "cells": [
    {
      "cell_type": "markdown",
      "source": [
        "    Write code that prints Hello if 1 is stored in spam, prints Howdy if 2 is stored in spam, and prints Greetings! if anything else is stored in spam."
      ],
      "metadata": {
        "id": "ZxL3RtcsolO6"
      }
    },
    {
      "cell_type": "code",
      "source": [],
      "metadata": {
        "id": "rDjnHsOroY9_"
      },
      "execution_count": null,
      "outputs": []
    }
  ]
}