{
  "nbformat": 4,
  "nbformat_minor": 0,
  "metadata": {
    "colab": {
      "provenance": [],
      "include_colab_link": true
    },
    "kernelspec": {
      "name": "python3",
      "display_name": "Python 3"
    },
    "language_info": {
      "name": "python"
    }
  },
  "cells": [
    {
      "cell_type": "markdown",
      "metadata": {
        "id": "view-in-github",
        "colab_type": "text"
      },
      "source": [
        "<a href=\"https://colab.research.google.com/github/llawlaw23/Python_101/blob/Tess/Ex_2.ipynb\" target=\"_parent\"><img src=\"https://colab.research.google.com/assets/colab-badge.svg\" alt=\"Open In Colab\"/></a>"
      ]
    },
    {
      "cell_type": "markdown",
      "source": [
        "a. Lists\n",
        "\n",
        "1. Create a list of 5 fruits.\n",
        "\n",
        "    - Append a new fruit.\n",
        "\n",
        "    - Replace the 2nd fruit with \"mango\".\n",
        "\n",
        "    - Remove the last fruit.\n",
        "\n",
        "2. Write a program to reverse a list without using reverse().\n",
        "\n",
        "3. Count how many times \"apple\" appears in [\"apple\",\"banana\",\"apple\",\"cherry\",\"apple\"].\n",
        "    - (tip use the count() method)"
      ],
      "metadata": {
        "id": "Eo-C-xAcSRr2"
      }
    },
    {
      "cell_type": "code",
      "source": [
        "Fruitchop = [\"apple\", \"pawpaw\", \"grape\", \"watermelon\", \"banana\"]\n",
        "Fruitchop"
      ],
      "metadata": {
        "colab": {
          "base_uri": "https://localhost:8080/"
        },
        "id": "UlmeE_MDVhUy",
        "outputId": "56ab6c05-1ac9-40aa-b012-509796f581db"
      },
      "execution_count": null,
      "outputs": [
        {
          "output_type": "execute_result",
          "data": {
            "text/plain": [
              "['apple', 'pawpaw', 'grape', 'watermelon', 'banana']"
            ]
          },
          "metadata": {},
          "execution_count": 1
        }
      ]
    },
    {
      "cell_type": "code",
      "source": [
        "Fruitchop.append(\"pear\")\n",
        "Fruitchop"
      ],
      "metadata": {
        "colab": {
          "base_uri": "https://localhost:8080/"
        },
        "id": "Aah4zz7c_HWG",
        "outputId": "f01c23bf-026c-4682-a079-31b6f9285069"
      },
      "execution_count": null,
      "outputs": [
        {
          "output_type": "execute_result",
          "data": {
            "text/plain": [
              "['apple', 'pawpaw', 'grape', 'watermelon', 'banana', 'pear']"
            ]
          },
          "metadata": {},
          "execution_count": 2
        }
      ]
    },
    {
      "cell_type": "code",
      "source": [
        "Fruitchop[1] = \"mango\"\n",
        "Fruitchop"
      ],
      "metadata": {
        "colab": {
          "base_uri": "https://localhost:8080/"
        },
        "id": "R3kcws_4ACeA",
        "outputId": "619522f0-bf61-41af-e8e8-5ce3d8d37629"
      },
      "execution_count": null,
      "outputs": [
        {
          "output_type": "execute_result",
          "data": {
            "text/plain": [
              "['apple', 'mango', 'grape', 'watermelon', 'banana']"
            ]
          },
          "metadata": {},
          "execution_count": 4
        }
      ]
    },
    {
      "cell_type": "code",
      "source": [
        "Fruitchop.pop()\n",
        "Fruitchop"
      ],
      "metadata": {
        "colab": {
          "base_uri": "https://localhost:8080/"
        },
        "id": "skAP8Z5b_Vc8",
        "outputId": "fb067f53-9275-424a-dbd6-4db32ba19b0e"
      },
      "execution_count": null,
      "outputs": [
        {
          "output_type": "execute_result",
          "data": {
            "text/plain": [
              "['apple', 'pawpaw', 'grape', 'watermelon', 'banana']"
            ]
          },
          "metadata": {},
          "execution_count": 3
        }
      ]
    },
    {
      "cell_type": "code",
      "source": [
        "Fruitchop.reverse()\n",
        "Fruitchop"
      ],
      "metadata": {
        "id": "IJK9oIPNAYrY"
      },
      "execution_count": null,
      "outputs": []
    },
    {
      "cell_type": "code",
      "source": [
        "list = [\"apple\", \"banana\", \"apple\", \"cherry\", \"apple\"]\n",
        "list.count(\"apple\")\n"
      ],
      "metadata": {
        "colab": {
          "base_uri": "https://localhost:8080/"
        },
        "id": "yncpYmtcjU2u",
        "outputId": "601a06df-c78e-4520-90b6-e1886c1edc9d"
      },
      "execution_count": null,
      "outputs": [
        {
          "output_type": "execute_result",
          "data": {
            "text/plain": [
              "3"
            ]
          },
          "metadata": {},
          "execution_count": 50
        }
      ]
    },
    {
      "cell_type": "markdown",
      "source": [
        "b. sets\n",
        "  - Create two sets: A & B\n",
        "  - Add the number 10 to set A.\n",
        "  - Remove 3 from set A safely (no error if missing)."
      ],
      "metadata": {
        "id": "GpU9cWjeS9Bo"
      }
    },
    {
      "cell_type": "code",
      "source": [
        "A = {1,2,33,5,3,6,8}\n",
        "B = {9,7,6,2,}"
      ],
      "metadata": {
        "id": "k3E1hXWCDoGA"
      },
      "execution_count": 4,
      "outputs": []
    },
    {
      "cell_type": "code",
      "source": [
        "A.add(10)\n",
        "A"
      ],
      "metadata": {
        "colab": {
          "base_uri": "https://localhost:8080/"
        },
        "id": "og_paHZfClMa",
        "outputId": "0c31fe4e-3990-4619-9e19-566524c3faf9"
      },
      "execution_count": 5,
      "outputs": [
        {
          "output_type": "execute_result",
          "data": {
            "text/plain": [
              "{1, 2, 3, 5, 6, 8, 10, 33}"
            ]
          },
          "metadata": {},
          "execution_count": 5
        }
      ]
    },
    {
      "cell_type": "code",
      "source": [
        "A.remove(3)\n",
        "A"
      ],
      "metadata": {
        "colab": {
          "base_uri": "https://localhost:8080/"
        },
        "id": "AMNPz4jDB8LE",
        "outputId": "4c918381-85aa-4de3-c57d-d9bae18e20ea"
      },
      "execution_count": 6,
      "outputs": [
        {
          "output_type": "execute_result",
          "data": {
            "text/plain": [
              "{1, 2, 5, 6, 8, 10, 33}"
            ]
          },
          "metadata": {},
          "execution_count": 6
        }
      ]
    },
    {
      "cell_type": "markdown",
      "source": [
        "c.Tuples\n",
        "  - Create a tuple of 5 numbers.\n",
        "\n",
        "  - Access the 3rd element.\n",
        "\n",
        "  - Slice from 2nd to 4th element.\n",
        "\n",
        "  - Convert the tuple into a list, modify it, then convert back into a tuple."
      ],
      "metadata": {
        "id": "50oIj8E2TRTt"
      }
    },
    {
      "cell_type": "code",
      "source": [
        "tup = (1,2,3,4,5)"
      ],
      "metadata": {
        "id": "1CtpHE-eEcHJ"
      },
      "execution_count": 1,
      "outputs": []
    },
    {
      "cell_type": "code",
      "source": [
        "third_element = tup[2]"
      ],
      "metadata": {
        "id": "rgFhUohbDZHR"
      },
      "execution_count": 2,
      "outputs": []
    },
    {
      "cell_type": "code",
      "source": [
        "tup[1:4]"
      ],
      "metadata": {
        "colab": {
          "base_uri": "https://localhost:8080/"
        },
        "id": "9qfrd0RlE2XZ",
        "outputId": "e674c7f0-234c-492a-8e24-6ed32f78f4fa"
      },
      "execution_count": 3,
      "outputs": [
        {
          "output_type": "execute_result",
          "data": {
            "text/plain": [
              "(2, 3, 4)"
            ]
          },
          "metadata": {},
          "execution_count": 3
        }
      ]
    },
    {
      "cell_type": "code",
      "source": [
        "list(tup)\n"
      ],
      "metadata": {
        "colab": {
          "base_uri": "https://localhost:8080/"
        },
        "id": "ONpVg6ZUIW2w",
        "outputId": "da93620d-c19f-45f5-973b-3007831342bc"
      },
      "execution_count": 4,
      "outputs": [
        {
          "output_type": "execute_result",
          "data": {
            "text/plain": [
              "[1, 2, 3, 4, 5]"
            ]
          },
          "metadata": {},
          "execution_count": 4
        }
      ]
    },
    {
      "cell_type": "code",
      "source": [
        "tuple(tup)\n"
      ],
      "metadata": {
        "id": "0eu6Shv_GNY-",
        "colab": {
          "base_uri": "https://localhost:8080/"
        },
        "outputId": "3419a426-b043-44b6-e351-d6d3fbaf2ccb"
      },
      "execution_count": 5,
      "outputs": [
        {
          "output_type": "execute_result",
          "data": {
            "text/plain": [
              "(1, 2, 3, 4, 5)"
            ]
          },
          "metadata": {},
          "execution_count": 5
        }
      ]
    },
    {
      "cell_type": "markdown",
      "source": [
        "d. Slicing & Indexing\n",
        "\n",
        "  1. Given nums = [10, 20, 30, 40, 50, 60]\n",
        "\n",
        "    - Get the first 3 numbers.\n",
        "\n",
        "    - Get the last 2 numbers.\n",
        "\n",
        "    - Reverse the list using slicing.\n",
        "\n",
        "  2. For the string s = \"PythonProgramming\":\n",
        "\n",
        "    - Get \"Python\" using slicing.\n",
        "\n",
        "    - Get every 2nd character.\n",
        "\n",
        "    - Reverse the string."
      ],
      "metadata": {
        "id": "fbjsuK-3Tf5u"
      }
    },
    {
      "cell_type": "code",
      "source": [
        "nums = [10, 20, 30, 40, 50, 60]"
      ],
      "metadata": {
        "id": "2talLh6KGCZC"
      },
      "execution_count": 6,
      "outputs": []
    },
    {
      "cell_type": "code",
      "source": [
        "nums[0:3]"
      ],
      "metadata": {
        "colab": {
          "base_uri": "https://localhost:8080/"
        },
        "id": "l4idAaSEH_P2",
        "outputId": "f738a2d8-9a18-45d6-d4e9-b09817ba8c5f"
      },
      "execution_count": 7,
      "outputs": [
        {
          "output_type": "execute_result",
          "data": {
            "text/plain": [
              "[10, 20, 30]"
            ]
          },
          "metadata": {},
          "execution_count": 7
        }
      ]
    },
    {
      "cell_type": "code",
      "source": [
        "nums[-2:]"
      ],
      "metadata": {
        "colab": {
          "base_uri": "https://localhost:8080/"
        },
        "id": "G1fp577fGHT-",
        "outputId": "824edbdb-6353-48bf-fcbd-9bf1e620a6d9"
      },
      "execution_count": null,
      "outputs": [
        {
          "output_type": "execute_result",
          "data": {
            "text/plain": [
              "[50, 60]"
            ]
          },
          "metadata": {},
          "execution_count": 15
        }
      ]
    },
    {
      "cell_type": "code",
      "source": [
        "nums[::-1]"
      ],
      "metadata": {
        "id": "McNqIVh-Tytl",
        "colab": {
          "base_uri": "https://localhost:8080/"
        },
        "outputId": "88a4af47-9337-4929-b8a2-45af380e0e0b"
      },
      "execution_count": null,
      "outputs": [
        {
          "output_type": "execute_result",
          "data": {
            "text/plain": [
              "[60, 50, 40, 30, 20, 10]"
            ]
          },
          "metadata": {},
          "execution_count": 29
        }
      ]
    },
    {
      "cell_type": "code",
      "source": [
        "s = (\"PythonProgramming\")"
      ],
      "metadata": {
        "id": "tZInn27PJlXo"
      },
      "execution_count": 8,
      "outputs": []
    },
    {
      "cell_type": "code",
      "source": [
        "s[0:6]"
      ],
      "metadata": {
        "colab": {
          "base_uri": "https://localhost:8080/",
          "height": 35
        },
        "id": "5uZ_qKM-IVuk",
        "outputId": "15374eee-d787-4f00-ebd0-e515ad23a51c"
      },
      "execution_count": 9,
      "outputs": [
        {
          "output_type": "execute_result",
          "data": {
            "text/plain": [
              "'Python'"
            ],
            "application/vnd.google.colaboratory.intrinsic+json": {
              "type": "string"
            }
          },
          "metadata": {},
          "execution_count": 9
        }
      ]
    },
    {
      "cell_type": "code",
      "source": [
        "s[1:18:2]"
      ],
      "metadata": {
        "colab": {
          "base_uri": "https://localhost:8080/",
          "height": 35
        },
        "id": "kQfI8WltJr2E",
        "outputId": "db558f13-8aff-432a-b030-d6c89ecefd4f"
      },
      "execution_count": null,
      "outputs": [
        {
          "output_type": "execute_result",
          "data": {
            "text/plain": [
              "'yhnrgamn'"
            ],
            "application/vnd.google.colaboratory.intrinsic+json": {
              "type": "string"
            }
          },
          "metadata": {},
          "execution_count": 31
        }
      ]
    },
    {
      "cell_type": "code",
      "source": [
        "\n",
        "s[::-1]"
      ],
      "metadata": {
        "colab": {
          "base_uri": "https://localhost:8080/",
          "height": 35
        },
        "id": "SOSMpEr7kMU8",
        "outputId": "f33018c0-3de2-42a8-e91b-ac9dbd8b6b3e"
      },
      "execution_count": null,
      "outputs": [
        {
          "output_type": "execute_result",
          "data": {
            "text/plain": [
              "'gnimmargorPnohtyP'"
            ],
            "application/vnd.google.colaboratory.intrinsic+json": {
              "type": "string"
            }
          },
          "metadata": {},
          "execution_count": 32
        }
      ]
    },
    {
      "cell_type": "code",
      "source": [],
      "metadata": {
        "id": "wg3WLhV-nfJa"
      },
      "execution_count": null,
      "outputs": []
    }
  ]
}