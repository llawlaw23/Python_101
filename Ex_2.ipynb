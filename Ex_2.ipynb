{
  "nbformat": 4,
  "nbformat_minor": 0,
  "metadata": {
    "colab": {
      "provenance": [],
      "authorship_tag": "ABX9TyPQhBRuTdz03QpzOeHQgzAS"
    },
    "kernelspec": {
      "name": "python3",
      "display_name": "Python 3"
    },
    "language_info": {
      "name": "python"
    }
  },
  "cells": [
    {
      "cell_type": "markdown",
      "source": [
        "a. Lists\n",
        "\n",
        "1. Create a list of 5 fruits.\n",
        "\n",
        "    - Append a new fruit.\n",
        "\n",
        "    - Replace the 2nd fruit with \"mango\".\n",
        "\n",
        "    - Remove the last fruit.\n",
        "\n",
        "2. Write a program to reverse a list without using reverse().\n",
        "\n",
        "3. Count how many times \"apple\" appears in [\"apple\",\"banana\",\"apple\",\"cherry\",\"apple\"].\n",
        "    - (tip use the count() method)"
      ],
      "metadata": {
        "id": "Eo-C-xAcSRr2"
      }
    },
    {
      "cell_type": "code",
      "execution_count": null,
      "metadata": {
        "id": "A4MTOdrdQ490"
      },
      "outputs": [],
      "source": []
    },
    {
      "cell_type": "markdown",
      "source": [
        "b. sets\n",
        "  - Create two sets: A & B\n",
        "  - Add the number 10 to set A.\n",
        "  - Remove 3 from set A safely (no error if missing)."
      ],
      "metadata": {
        "id": "GpU9cWjeS9Bo"
      }
    },
    {
      "cell_type": "code",
      "source": [],
      "metadata": {
        "id": "nJgTTckATL8v"
      },
      "execution_count": null,
      "outputs": []
    },
    {
      "cell_type": "markdown",
      "source": [
        "c.Tuples\n",
        "  - Create a tuple of 5 numbers.\n",
        "\n",
        "  - Access the 3rd element.\n",
        "\n",
        "  - Slice from 2nd to 4th element.\n",
        "\n",
        "  - Convert the tuple into a list, modify it, then convert back into a tuple."
      ],
      "metadata": {
        "id": "50oIj8E2TRTt"
      }
    },
    {
      "cell_type": "code",
      "source": [],
      "metadata": {
        "id": "Q8UK_smLTe39"
      },
      "execution_count": null,
      "outputs": []
    },
    {
      "cell_type": "markdown",
      "source": [
        "d. Slicing & Indexing\n",
        "\n",
        "  1. Given nums = [10, 20, 30, 40, 50, 60]\n",
        "\n",
        "    - Get the first 3 numbers.\n",
        "\n",
        "    - Get the last 2 numbers.\n",
        "\n",
        "    - Reverse the list using slicing.\n",
        "\n",
        "  2. For the string s = \"PythonProgramming\":\n",
        "\n",
        "    - Get \"Python\" using slicing.\n",
        "\n",
        "    - Get every 2nd character.\n",
        "\n",
        "    - Reverse the string."
      ],
      "metadata": {
        "id": "fbjsuK-3Tf5u"
      }
    },
    {
      "cell_type": "code",
      "source": [],
      "metadata": {
        "id": "McNqIVh-Tytl"
      },
      "execution_count": null,
      "outputs": []
    }
  ]
}