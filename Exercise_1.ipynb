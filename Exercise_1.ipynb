{
  "cells": [
    {
      "cell_type": "markdown",
      "metadata": {
        "id": "view-in-github",
        "colab_type": "text"
      },
      "source": [
        "<a href=\"https://colab.research.google.com/github/llawlaw23/Python_101/blob/main/Exercise_1.ipynb\" target=\"_parent\"><img src=\"https://colab.research.google.com/assets/colab-badge.svg\" alt=\"Open In Colab\"/></a>"
      ]
    },
    {
      "cell_type": "markdown",
      "id": "72e8177d",
      "metadata": {
        "id": "72e8177d"
      },
      "source": [
        "# Exercise on Datatypes and variable"
      ]
    },
    {
      "cell_type": "markdown",
      "source": [
        "Variables"
      ],
      "metadata": {
        "id": "Ot6s6mlHza3F"
      },
      "id": "Ot6s6mlHza3F"
    },
    {
      "cell_type": "code",
      "execution_count": 3,
      "id": "bde64579",
      "metadata": {
        "id": "bde64579"
      },
      "outputs": [],
      "source": [
        "# Assign the value 15 to a variable named age.\n",
        "\n"
      ]
    },
    {
      "cell_type": "code",
      "source": [
        "# Print the value of age.\n",
        "\n",
        "\n"
      ],
      "metadata": {
        "id": "guMUIphXxvBG"
      },
      "id": "guMUIphXxvBG",
      "execution_count": 3,
      "outputs": []
    },
    {
      "cell_type": "code",
      "source": [
        "# Create a variable name and assign it your first name as a string.\n",
        "\n",
        "\n"
      ],
      "metadata": {
        "id": "VNtC1OIayAqA"
      },
      "id": "VNtC1OIayAqA",
      "execution_count": null,
      "outputs": []
    },
    {
      "cell_type": "code",
      "source": [
        "# Print a sentence combining both variables, for example:\n",
        "# example:\n",
        "\n",
        "# My name is Alice and I am 15 years old.\n",
        "\n"
      ],
      "metadata": {
        "id": "_2zHPCe3yWBX"
      },
      "id": "_2zHPCe3yWBX",
      "execution_count": 5,
      "outputs": []
    },
    {
      "cell_type": "code",
      "source": [
        "# Which of the following variable names are invalid in Python?\n",
        "# a. 2name\n",
        "# b. _value\n",
        "# c. first-name\n",
        "# d. price\n"
      ],
      "metadata": {
        "id": "DvTLfWQQyyvV"
      },
      "id": "DvTLfWQQyyvV",
      "execution_count": null,
      "outputs": []
    },
    {
      "cell_type": "markdown",
      "source": [
        "Number (int)"
      ],
      "metadata": {
        "id": "BqxYugmAzgYw"
      },
      "id": "BqxYugmAzgYw"
    },
    {
      "cell_type": "code",
      "source": [
        "# Store the number 10 in a variable a and the number 3 in a variable b.\n",
        "\n"
      ],
      "metadata": {
        "id": "50fm3Q2HzRSy"
      },
      "id": "50fm3Q2HzRSy",
      "execution_count": null,
      "outputs": []
    },
    {
      "cell_type": "code",
      "source": [
        "# Compute and print:\n",
        "# a + b\n",
        "# a - b\n",
        "# a * b\n",
        "# a / b\n",
        "# a // b (integer division)\n",
        "# a % b (remainder)\n",
        "# a ** b (power)\n"
      ],
      "metadata": {
        "id": "mBx7gyX1zvUN"
      },
      "id": "mBx7gyX1zvUN",
      "execution_count": null,
      "outputs": []
    },
    {
      "cell_type": "markdown",
      "source": [
        "Strings"
      ],
      "metadata": {
        "id": "W3SO-2ai0JN2"
      },
      "id": "W3SO-2ai0JN2"
    },
    {
      "cell_type": "code",
      "source": [
        "# Create a variable to contain \"Hello\".\n",
        "\n"
      ],
      "metadata": {
        "id": "f3czftdDz_rw"
      },
      "id": "f3czftdDz_rw",
      "execution_count": null,
      "outputs": []
    },
    {
      "cell_type": "code",
      "source": [
        "# Create a variable name with your name.\n",
        "\n"
      ],
      "metadata": {
        "id": "jMPeqQCl0awY"
      },
      "id": "jMPeqQCl0awY",
      "execution_count": null,
      "outputs": []
    },
    {
      "cell_type": "code",
      "source": [
        "# print: Hello your name using string concatenation.\n",
        "\n"
      ],
      "metadata": {
        "id": "b4dblAdM0ilY"
      },
      "id": "b4dblAdM0ilY",
      "execution_count": null,
      "outputs": []
    },
    {
      "cell_type": "markdown",
      "source": [
        "Type Conversion"
      ],
      "metadata": {
        "id": "9qRw7ANg1Dng"
      },
      "id": "9qRw7ANg1Dng"
    },
    {
      "cell_type": "code",
      "source": [
        "# Convert the string \"123\" into an integer and add 10 to it.\n",
        "\n"
      ],
      "metadata": {
        "id": "Lu0PbLy702dp"
      },
      "id": "Lu0PbLy702dp",
      "execution_count": null,
      "outputs": []
    },
    {
      "cell_type": "code",
      "source": [
        "# Convert the number 99 into a string and concatenate it with \" bottles\".\n",
        "\n"
      ],
      "metadata": {
        "id": "LFwMEUJT1QOx"
      },
      "id": "LFwMEUJT1QOx",
      "execution_count": 8,
      "outputs": []
    },
    {
      "cell_type": "code",
      "source": [
        "# Convert the float 3.14 into an integer. What happens\n",
        "\n"
      ],
      "metadata": {
        "id": "EfJF2hiO1dmK"
      },
      "id": "EfJF2hiO1dmK",
      "execution_count": null,
      "outputs": []
    },
    {
      "cell_type": "markdown",
      "source": [
        "Challenge yourself"
      ],
      "metadata": {
        "id": "STDz1XXe1r5T"
      },
      "id": "STDz1XXe1r5T"
    },
    {
      "cell_type": "code",
      "source": [
        "# Write a program that asks the user for their name and age, then prints:\n",
        "\n",
        "# Hello [name], next year you will be [age+1] years old.\n",
        "\n"
      ],
      "metadata": {
        "id": "rSW83iGf1yIX"
      },
      "id": "rSW83iGf1yIX",
      "execution_count": null,
      "outputs": []
    },
    {
      "cell_type": "code",
      "source": [
        "# Fix the following code so it runs without errors:\n",
        "\n",
        "1name = \"Alice\"\n",
        "print(\"Hello\", 1name)\n",
        ".mine = 'Miss\"\n",
        "print('I am a, .mine)\n"
      ],
      "metadata": {
        "id": "d0ZyYWzl2P25"
      },
      "id": "d0ZyYWzl2P25",
      "execution_count": null,
      "outputs": []
    }
  ],
  "metadata": {
    "kernelspec": {
      "display_name": "Python 3 (ipykernel)",
      "language": "python",
      "name": "python3"
    },
    "language_info": {
      "codemirror_mode": {
        "name": "ipython",
        "version": 3
      },
      "file_extension": ".py",
      "mimetype": "text/x-python",
      "name": "python",
      "nbconvert_exporter": "python",
      "pygments_lexer": "ipython3",
      "version": "3.9.13"
    },
    "colab": {
      "provenance": [],
      "include_colab_link": true
    }
  },
  "nbformat": 4,
  "nbformat_minor": 5
}