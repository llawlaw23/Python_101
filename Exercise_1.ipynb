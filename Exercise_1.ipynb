{
  "cells": [
    {
      "cell_type": "markdown",
      "metadata": {
        "id": "view-in-github",
        "colab_type": "text"
      },
      "source": [
        "<a href=\"https://colab.research.google.com/github/llawlaw23/Python_101/blob/Tess/Exercise_1.ipynb\" target=\"_parent\"><img src=\"https://colab.research.google.com/assets/colab-badge.svg\" alt=\"Open In Colab\"/></a>"
      ]
    },
    {
      "cell_type": "markdown",
      "id": "72e8177d",
      "metadata": {
        "id": "72e8177d"
      },
      "source": [
        "# Exercise on Datatypes and variable"
      ]
    },
    {
      "cell_type": "markdown",
      "id": "Ot6s6mlHza3F",
      "metadata": {
        "id": "Ot6s6mlHza3F"
      },
      "source": [
        "Variables"
      ]
    },
    {
      "cell_type": "code",
      "execution_count": null,
      "id": "bde64579",
      "metadata": {
        "id": "bde64579"
      },
      "outputs": [],
      "source": [
        "# Assign the value 15 to a variable named age.\n",
        "age = 15\n"
      ]
    },
    {
      "cell_type": "code",
      "execution_count": null,
      "id": "guMUIphXxvBG",
      "metadata": {
        "colab": {
          "base_uri": "https://localhost:8080/"
        },
        "id": "guMUIphXxvBG",
        "outputId": "657dde46-a195-4f73-88c5-a21d47f178e2"
      },
      "outputs": [
        {
          "data": {
            "text/plain": [
              "15"
            ]
          },
          "execution_count": 3,
          "metadata": {},
          "output_type": "execute_result"
        }
      ],
      "source": [
        "# Print the value of age.\n",
        "age = 15\n",
        "age\n",
        "\n"
      ]
    },
    {
      "cell_type": "code",
      "execution_count": null,
      "id": "VNtC1OIayAqA",
      "metadata": {
        "colab": {
          "background_save": true,
          "base_uri": "https://localhost:8080/",
          "height": 35
        },
        "id": "VNtC1OIayAqA",
        "outputId": "d59f7c39-0c4e-4985-f57f-0f0d51a9545c"
      },
      "outputs": [
        {
          "data": {
            "application/vnd.google.colaboratory.intrinsic+json": {
              "type": "string"
            },
            "text/plain": [
              "'Theresah'"
            ]
          },
          "execution_count": 9,
          "metadata": {},
          "output_type": "execute_result"
        }
      ],
      "source": [
        "# Create a variable name and assign it your first name as a string.\n",
        "firstname = \"Theresah\"\n",
        "\n",
        "firstname"
      ]
    },
    {
      "cell_type": "code",
      "execution_count": null,
      "id": "_2zHPCe3yWBX",
      "metadata": {
        "colab": {
          "base_uri": "https://localhost:8080/"
        },
        "id": "_2zHPCe3yWBX",
        "outputId": "1ea732f1-70c5-4e7c-88a1-8739d91e8fb9"
      },
      "outputs": [
        {
          "name": "stdout",
          "output_type": "stream",
          "text": [
            "My name is Theresah and i am 20 years old\n"
          ]
        }
      ],
      "source": [
        "# Print a sentence combining both variables, for example:\n",
        "# example:\n",
        "\n",
        "# My name is Alice and I am 15 years old.\n",
        "name = \"Theresah\"\n",
        "age = 20\n",
        "print(\"My name is\", name, \"and i am\", age, \"years old\")\n"
      ]
    },
    {
      "cell_type": "code",
      "execution_count": null,
      "id": "DvTLfWQQyyvV",
      "metadata": {
        "id": "DvTLfWQQyyvV"
      },
      "outputs": [],
      "source": [
        "# Which of the following variable names are invalid in Python?\n",
        "# a. 2name\n",
        "# b. _value\n",
        "# c. first-name\n",
        "# d. price\n",
        "a, b, c"
      ]
    },
    {
      "cell_type": "markdown",
      "id": "BqxYugmAzgYw",
      "metadata": {
        "id": "BqxYugmAzgYw"
      },
      "source": [
        "Number (int)"
      ]
    },
    {
      "cell_type": "code",
      "execution_count": null,
      "id": "50fm3Q2HzRSy",
      "metadata": {
        "colab": {
          "base_uri": "https://localhost:8080/"
        },
        "id": "50fm3Q2HzRSy",
        "outputId": "4ff515ac-ce69-473f-f4cb-1d89bbd3b764"
      },
      "outputs": [
        {
          "data": {
            "text/plain": [
              "3"
            ]
          },
          "execution_count": 28,
          "metadata": {},
          "output_type": "execute_result"
        }
      ],
      "source": [
        "# Store the number 10 in a variable a and the number 3 in a variable b.\n",
        "\n",
        "a = 10\n",
        "b = 3\n",
        "a\n",
        "b"
      ]
    },
    {
      "cell_type": "code",
      "execution_count": null,
      "id": "mBx7gyX1zvUN",
      "metadata": {
        "colab": {
          "base_uri": "https://localhost:8080/"
        },
        "id": "mBx7gyX1zvUN",
        "outputId": "17d1500e-765f-4bee-b53b-0996bdfac809"
      },
      "outputs": [
        {
          "name": "stdout",
          "output_type": "stream",
          "text": [
            "13\n",
            "7\n",
            "30\n",
            "3.3333333333333335\n",
            "3\n",
            "1\n",
            "1000\n"
          ]
        }
      ],
      "source": [
        "# Compute and print:\n",
        "# a + b\n",
        "# a - b\n",
        "# a * b\n",
        "# a / b\n",
        "# a // b (integer division)\n",
        "# a % b (remainder)\n",
        "# a ** b (power)\n",
        "print(a + b)\n",
        "print(a - b)\n",
        "print(a * b)\n",
        "print(a / b)\n",
        "print(a // b)\n",
        "print(a % b)\n",
        "print(a ** b)"
      ]
    },
    {
      "cell_type": "markdown",
      "id": "W3SO-2ai0JN2",
      "metadata": {
        "id": "W3SO-2ai0JN2"
      },
      "source": [
        "Strings"
      ]
    },
    {
      "cell_type": "code",
      "execution_count": null,
      "id": "f3czftdDz_rw",
      "metadata": {
        "colab": {
          "base_uri": "https://localhost:8080/",
          "height": 35
        },
        "id": "f3czftdDz_rw",
        "outputId": "829e2bf5-799f-4130-edd0-8683fd4eaf43"
      },
      "outputs": [
        {
          "data": {
            "application/vnd.google.colaboratory.intrinsic+json": {
              "type": "string"
            },
            "text/plain": [
              "'Hello'"
            ]
          },
          "execution_count": 30,
          "metadata": {},
          "output_type": "execute_result"
        }
      ],
      "source": [
        "# Create a variable to contain \"Hello\".\n",
        "\n",
        "a = \"Hello\"\n",
        "a"
      ]
    },
    {
      "cell_type": "code",
      "execution_count": null,
      "id": "jMPeqQCl0awY",
      "metadata": {
        "colab": {
          "base_uri": "https://localhost:8080/",
          "height": 35
        },
        "id": "jMPeqQCl0awY",
        "outputId": "c7c68e79-f50b-482b-bc3d-65537f64129d"
      },
      "outputs": [
        {
          "data": {
            "application/vnd.google.colaboratory.intrinsic+json": {
              "type": "string"
            },
            "text/plain": [
              "'Theresah'"
            ]
          },
          "execution_count": 31,
          "metadata": {},
          "output_type": "execute_result"
        }
      ],
      "source": [
        "# Create a variable name with your name.\n",
        "name = \"Theresah\"\n",
        "name"
      ]
    },
    {
      "cell_type": "code",
      "execution_count": 8,
      "id": "b4dblAdM0ilY",
      "metadata": {
        "colab": {
          "base_uri": "https://localhost:8080/"
        },
        "id": "b4dblAdM0ilY",
        "outputId": "3ecd14a0-08c9-4f2c-909a-71c87b40aa0e"
      },
      "outputs": [
        {
          "output_type": "stream",
          "name": "stdout",
          "text": [
            "Hello your name\n"
          ]
        }
      ],
      "source": [
        "# print: Hello your name using string concatenation.\n",
        "\n",
        "print(\"Hello\" + \" \"  + \"your\"  + \" \" +  \"name\")"
      ]
    },
    {
      "cell_type": "markdown",
      "id": "9qRw7ANg1Dng",
      "metadata": {
        "id": "9qRw7ANg1Dng"
      },
      "source": [
        "Type Conversion"
      ]
    },
    {
      "cell_type": "code",
      "execution_count": 12,
      "id": "Lu0PbLy702dp",
      "metadata": {
        "colab": {
          "base_uri": "https://localhost:8080/"
        },
        "id": "Lu0PbLy702dp",
        "outputId": "84858ecc-afa6-41fa-c868-07f2bcd28a94"
      },
      "outputs": [
        {
          "output_type": "stream",
          "name": "stdout",
          "text": [
            "133\n"
          ]
        }
      ],
      "source": [
        "# Convert the string \"123\" into an integer and add 10 to it.\n",
        "c = int(\"123\")\n",
        "c\n",
        "print(c + 10)"
      ]
    },
    {
      "cell_type": "code",
      "source": [
        "type(l)\n",
        "type(c)"
      ],
      "metadata": {
        "colab": {
          "base_uri": "https://localhost:8080/"
        },
        "id": "TBUzDJkxglSk",
        "outputId": "4022fe82-386f-47e2-df9e-cdf495a50a1e"
      },
      "id": "TBUzDJkxglSk",
      "execution_count": 11,
      "outputs": [
        {
          "output_type": "execute_result",
          "data": {
            "text/plain": [
              "int"
            ]
          },
          "metadata": {},
          "execution_count": 11
        }
      ]
    },
    {
      "cell_type": "code",
      "execution_count": null,
      "id": "LFwMEUJT1QOx",
      "metadata": {
        "colab": {
          "base_uri": "https://localhost:8080/"
        },
        "id": "LFwMEUJT1QOx",
        "outputId": "7818f72d-e576-44e1-cd28-e0cb12001ea4"
      },
      "outputs": [
        {
          "name": "stdout",
          "output_type": "stream",
          "text": [
            "99bottles\n"
          ]
        }
      ],
      "source": [
        "# Convert the number 99 into a string and concatenate it with \" bottles\".\n",
        "a = 99\n",
        "book = str(a) + \"bottles\"\n",
        "print(book)"
      ]
    },
    {
      "cell_type": "code",
      "execution_count": null,
      "id": "EfJF2hiO1dmK",
      "metadata": {
        "colab": {
          "base_uri": "https://localhost:8080/"
        },
        "id": "EfJF2hiO1dmK",
        "outputId": "93779531-a696-47ec-bfb5-727754f21954"
      },
      "outputs": [
        {
          "data": {
            "text/plain": [
              "3"
            ]
          },
          "execution_count": 35,
          "metadata": {},
          "output_type": "execute_result"
        }
      ],
      "source": [
        "# Convert the float 3.14 into an integer. What happens\n",
        "num = int(3.14)\n",
        "num\n"
      ]
    },
    {
      "cell_type": "markdown",
      "id": "STDz1XXe1r5T",
      "metadata": {
        "id": "STDz1XXe1r5T"
      },
      "source": [
        "Challenge yourself"
      ]
    },
    {
      "cell_type": "code",
      "execution_count": null,
      "id": "rSW83iGf1yIX",
      "metadata": {
        "colab": {
          "base_uri": "https://localhost:8080/"
        },
        "id": "rSW83iGf1yIX",
        "outputId": "48088112-fb40-4745-c676-3c6e84199669"
      },
      "outputs": [
        {
          "output_type": "stream",
          "name": "stdout",
          "text": [
            "Enter your nameTheresah\n",
            "Enter your age17\n",
            "Hello Theresah next year will be 17 +1 years old\n"
          ]
        }
      ],
      "source": [
        "# Write a program that asks the user for their name and age, then prints:\n",
        "name = input(\"Enter your name\")\n",
        "age = input(\"Enter your age\")\n",
        "\n",
        "# Hello [name], next year you will be [age+1] years old.\n",
        "print(\"Hello\", name, \"next year will be\",age, \"+1 years old\")\n"
      ]
    },
    {
      "cell_type": "code",
      "execution_count": null,
      "id": "d0ZyYWzl2P25",
      "metadata": {
        "colab": {
          "base_uri": "https://localhost:8080/"
        },
        "id": "d0ZyYWzl2P25",
        "outputId": "9ad92fe1-274f-4fdc-d5b6-4f8b1504f535"
      },
      "outputs": [
        {
          "name": "stdout",
          "output_type": "stream",
          "text": [
            "Hello Alice\n",
            "i am a Miss\n"
          ]
        }
      ],
      "source": [
        "# Fix the following code so it runs without errors:\n",
        "\n",
        "# 1name = \"Alice\"\n",
        "# print(\"Hello\", 1name)\n",
        "# .mine = 'Miss\"\n",
        "# print('I am a, .mine)\n",
        "name = \"Alice\"\n",
        "print(\"Hello\", name)\n",
        "mine = \"Miss\"\n",
        "print('i am a', mine)\n",
        "\n"
      ]
    },
    {
      "cell_type": "code",
      "execution_count": null,
      "id": "szA5x4oUi3_M",
      "metadata": {
        "id": "szA5x4oUi3_M"
      },
      "outputs": [],
      "source": []
    }
  ],
  "metadata": {
    "colab": {
      "provenance": [],
      "include_colab_link": true
    },
    "kernelspec": {
      "display_name": "Python 3 (ipykernel)",
      "language": "python",
      "name": "python3"
    },
    "language_info": {
      "codemirror_mode": {
        "name": "ipython",
        "version": 3
      },
      "file_extension": ".py",
      "mimetype": "text/x-python",
      "name": "python",
      "nbconvert_exporter": "python",
      "pygments_lexer": "ipython3",
      "version": "3.9.13"
    }
  },
  "nbformat": 4,
  "nbformat_minor": 5
}