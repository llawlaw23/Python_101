{
  "cells": [
    {
      "cell_type": "markdown",
      "id": "bfc4a77f",
      "metadata": {
        "id": "bfc4a77f"
      },
      "source": [
        "## Python Dictionary"
      ]
    },
    {
      "cell_type": "markdown",
      "id": "c36661b1",
      "metadata": {
        "id": "c36661b1"
      },
      "source": [
        "**1. Write a Python program to count the frequency of each word in a given sentence using a dictionary.**"
      ]
    },
    {
      "cell_type": "code",
      "execution_count": null,
      "id": "10cde271",
      "metadata": {
        "id": "10cde271"
      },
      "outputs": [],
      "source": [
        "# Your answer here"
      ]
    },
    {
      "cell_type": "markdown",
      "id": "5ac9ac39",
      "metadata": {
        "id": "5ac9ac39"
      },
      "source": [
        "**2. How can you merge two dictionaries in Python ?**"
      ]
    },
    {
      "cell_type": "code",
      "execution_count": null,
      "id": "86f9171f",
      "metadata": {
        "id": "86f9171f"
      },
      "outputs": [],
      "source": [
        "# Your answer here"
      ]
    },
    {
      "cell_type": "markdown",
      "id": "fc52bbe6",
      "metadata": {
        "id": "fc52bbe6"
      },
      "source": [
        "**3. Given student = {'name': 'Alice', 'age': 20, 'grade': 'A'}, how would you:\n",
        "   - Access the student’s age?\n",
        "   - Add a new key 'course': 'Math'?\n",
        "   - Delete the key 'grade'?**"
      ]
    },
    {
      "cell_type": "code",
      "execution_count": null,
      "id": "a08424c0",
      "metadata": {
        "id": "a08424c0"
      },
      "outputs": [],
      "source": [
        "# Your answer here"
      ]
    },
    {
      "cell_type": "markdown",
      "id": "dcadfb67",
      "metadata": {
        "id": "dcadfb67"
      },
      "source": [
        "## Control Flow (if, for, while, etc.)"
      ]
    },
    {
      "cell_type": "markdown",
      "id": "b53d332b",
      "metadata": {
        "id": "b53d332b"
      },
      "source": [
        "**1. Write a Python program to print all even numbers between 1 and 50 using a for loop.**"
      ]
    },
    {
      "cell_type": "code",
      "execution_count": null,
      "id": "7f0ceebb",
      "metadata": {
        "id": "7f0ceebb"
      },
      "outputs": [],
      "source": [
        "# Your answer here"
      ]
    },
    {
      "cell_type": "markdown",
      "id": "0e713a7c",
      "metadata": {
        "id": "0e713a7c"
      },
      "source": [
        "**2. What is the purpose of the break and continue statements in loops? Give examples.**"
      ]
    },
    {
      "cell_type": "code",
      "execution_count": null,
      "id": "23b92dc8",
      "metadata": {
        "id": "23b92dc8"
      },
      "outputs": [],
      "source": [
        "# Your answer here"
      ]
    },
    {
      "cell_type": "markdown",
      "id": "9c2648b7",
      "metadata": {
        "id": "9c2648b7"
      },
      "source": [
        "**3. Write a program that takes an integer input and prints whether it’s positive, negative, or zero.**"
      ]
    },
    {
      "cell_type": "code",
      "execution_count": null,
      "id": "2c130e97",
      "metadata": {
        "id": "2c130e97"
      },
      "outputs": [],
      "source": [
        "# Your answer here"
      ]
    },
    {
      "cell_type": "markdown",
      "source": [
        "**4. Write a Python program to check if a number is positive or negative.**"
      ],
      "metadata": {
        "id": "1_jB5JbvDotA"
      },
      "id": "1_jB5JbvDotA"
    },
    {
      "cell_type": "code",
      "source": [
        "# Your answer here"
      ],
      "metadata": {
        "id": "o1dAmGESDyGO"
      },
      "id": "o1dAmGESDyGO",
      "execution_count": null,
      "outputs": []
    },
    {
      "cell_type": "markdown",
      "source": [
        "**5. Write a program that checks whether a person is old enough to vote (age ≥ 18).**"
      ],
      "metadata": {
        "id": "8Zzr8XoQDz9F"
      },
      "id": "8Zzr8XoQDz9F"
    },
    {
      "cell_type": "code",
      "source": [
        "# Your answer here"
      ],
      "metadata": {
        "id": "HuxiDIF_DiZm"
      },
      "id": "HuxiDIF_DiZm",
      "execution_count": 1,
      "outputs": []
    },
    {
      "cell_type": "markdown",
      "source": [
        "**6. Create a program that takes a student’s score and prints:\n",
        "\n",
        "    “A” if score ≥ 90\n",
        "\n",
        "    “B” if score ≥ 80\n",
        "\n",
        "    “C” if score ≥ 70\n",
        "\n",
        "    “D” if score ≥ 60\n",
        "\n",
        "    “F” otherwise**"
      ],
      "metadata": {
        "id": "qo7RgmyMD_Bg"
      },
      "id": "qo7RgmyMD_Bg"
    },
    {
      "cell_type": "code",
      "source": [
        "# Your answer here"
      ],
      "metadata": {
        "id": "0x_OBgJNEIqu"
      },
      "id": "0x_OBgJNEIqu",
      "execution_count": null,
      "outputs": []
    },
    {
      "cell_type": "markdown",
      "id": "884d88ea",
      "metadata": {
        "id": "884d88ea"
      },
      "source": [
        "## Functions (def)"
      ]
    },
    {
      "cell_type": "markdown",
      "id": "a3327528",
      "metadata": {
        "id": "a3327528"
      },
      "source": [
        "**1. Write a function is_prime(n) that returns True if n is a prime number, otherwise False.**"
      ]
    },
    {
      "cell_type": "code",
      "execution_count": null,
      "id": "ad341e72",
      "metadata": {
        "id": "ad341e72"
      },
      "outputs": [],
      "source": [
        "# Your answer here"
      ]
    },
    {
      "cell_type": "markdown",
      "id": "5cfa6804",
      "metadata": {
        "id": "5cfa6804"
      },
      "source": [
        "## Classes (Object-Oriented Programming)"
      ]
    },
    {
      "cell_type": "markdown",
      "id": "fdcc7267",
      "metadata": {
        "id": "fdcc7267"
      },
      "source": [
        "**1. Write a simple class laptop with attributes brand and specs, and a method display_info() that prints them.**"
      ]
    },
    {
      "cell_type": "code",
      "execution_count": null,
      "id": "be97747f",
      "metadata": {
        "id": "be97747f"
      },
      "outputs": [],
      "source": [
        "# Your answer here"
      ]
    }
  ],
  "metadata": {
    "colab": {
      "provenance": []
    },
    "language_info": {
      "name": "python"
    },
    "kernelspec": {
      "name": "python3",
      "display_name": "Python 3"
    }
  },
  "nbformat": 4,
  "nbformat_minor": 5
}