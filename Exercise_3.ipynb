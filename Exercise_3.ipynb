{
  "cells": [
    {
      "cell_type": "markdown",
      "metadata": {
        "id": "view-in-github",
        "colab_type": "text"
      },
      "source": [
        "<a href=\"https://colab.research.google.com/github/llawlaw23/Python_101/blob/Tess/Exercise_3.ipynb\" target=\"_parent\"><img src=\"https://colab.research.google.com/assets/colab-badge.svg\" alt=\"Open In Colab\"/></a>"
      ]
    },
    {
      "cell_type": "markdown",
      "id": "bfc4a77f",
      "metadata": {
        "id": "bfc4a77f"
      },
      "source": [
        "## Python Dictionary"
      ]
    },
    {
      "cell_type": "markdown",
      "id": "c36661b1",
      "metadata": {
        "id": "c36661b1"
      },
      "source": [
        "**1. Write a Python program to count the frequency of each word in a given sentence using a dictionary.**"
      ]
    },
    {
      "cell_type": "code",
      "execution_count": null,
      "id": "10cde271",
      "metadata": {
        "id": "10cde271",
        "colab": {
          "base_uri": "https://localhost:8080/"
        },
        "outputId": "35ad2dff-de12-4872-c945-d85d661407b0"
      },
      "outputs": [
        {
          "name": "stdout",
          "output_type": "stream",
          "text": [
            "Enter a sentence:Kofi is a boy\n"
          ]
        }
      ],
      "source": [
        "sentence = input(\"Enter a sentence:\")"
      ]
    },
    {
      "cell_type": "code",
      "source": [
        "words = sentence.split()"
      ],
      "metadata": {
        "id": "6QdS8n50oq7d"
      },
      "id": "6QdS8n50oq7d",
      "execution_count": null,
      "outputs": []
    },
    {
      "cell_type": "code",
      "source": [
        "freq = {}"
      ],
      "metadata": {
        "id": "GCOXY3fWo07U"
      },
      "id": "GCOXY3fWo07U",
      "execution_count": null,
      "outputs": []
    },
    {
      "cell_type": "code",
      "source": [
        "for word in words:\n",
        "   freq[word] = freq.get(word, 0) + 1\n",
        "print(\"word frequency\", freq)"
      ],
      "metadata": {
        "colab": {
          "base_uri": "https://localhost:8080/"
        },
        "id": "EI-jWe9Bo7ZT",
        "outputId": "5dafc71a-2382-4920-8987-fa044c00bf95"
      },
      "id": "EI-jWe9Bo7ZT",
      "execution_count": null,
      "outputs": [
        {
          "output_type": "stream",
          "name": "stdout",
          "text": [
            "word frequency {'Kofi': 1, 'is': 1, 'a': 1, 'boy': 1}\n"
          ]
        }
      ]
    },
    {
      "cell_type": "markdown",
      "id": "5ac9ac39",
      "metadata": {
        "id": "5ac9ac39"
      },
      "source": [
        "**2. How can you merge two dictionaries in Python ?**"
      ]
    },
    {
      "cell_type": "code",
      "execution_count": null,
      "id": "86f9171f",
      "metadata": {
        "id": "86f9171f",
        "colab": {
          "base_uri": "https://localhost:8080/"
        },
        "outputId": "c4fb2df9-3e3e-4910-f31a-0968b4edb794"
      },
      "outputs": [
        {
          "output_type": "stream",
          "name": "stdout",
          "text": [
            "{'a': 1, 'b': 3, 'c': 4}\n"
          ]
        }
      ],
      "source": [
        "dict1 = {\"a\": 1, \"b\": 2}\n",
        "dict2 = {\"b\": 3, \"c\":4}\n",
        "merge = dict1 | dict2\n",
        "print(merge)"
      ]
    },
    {
      "cell_type": "markdown",
      "id": "fc52bbe6",
      "metadata": {
        "id": "fc52bbe6"
      },
      "source": [
        "**3. Given student = {'name': 'Alice', 'age': 20, 'grade': 'A'}, how would you:\n",
        "   - Access the student’s age?\n",
        "   - Add a new key 'course': 'Math'?\n",
        "   - Delete the key 'grade'?**"
      ]
    },
    {
      "cell_type": "code",
      "source": [
        "student = {'name': 'Alice', 'age': 20, 'grade':'A'}"
      ],
      "metadata": {
        "id": "pvXewA_-JikI"
      },
      "id": "pvXewA_-JikI",
      "execution_count": null,
      "outputs": []
    },
    {
      "cell_type": "code",
      "execution_count": null,
      "id": "a08424c0",
      "metadata": {
        "id": "a08424c0",
        "colab": {
          "base_uri": "https://localhost:8080/"
        },
        "outputId": "86d33b63-5438-44af-9510-7a9a69903a11"
      },
      "outputs": [
        {
          "output_type": "stream",
          "name": "stdout",
          "text": [
            "20\n"
          ]
        }
      ],
      "source": [
        "print(student['age'])"
      ]
    },
    {
      "cell_type": "code",
      "source": [
        "student['course'] = 'Math'"
      ],
      "metadata": {
        "id": "WrfudMG-JcLN"
      },
      "id": "WrfudMG-JcLN",
      "execution_count": null,
      "outputs": []
    },
    {
      "cell_type": "code",
      "source": [
        "student"
      ],
      "metadata": {
        "colab": {
          "base_uri": "https://localhost:8080/"
        },
        "id": "UMVZJL6YKaeN",
        "outputId": "648662d3-b8b0-44a7-e23d-17536d968146"
      },
      "id": "UMVZJL6YKaeN",
      "execution_count": null,
      "outputs": [
        {
          "output_type": "execute_result",
          "data": {
            "text/plain": [
              "{'name': 'Alice', 'age': 20, 'grade': 'A', 'course': 'Math'}"
            ]
          },
          "metadata": {},
          "execution_count": 15
        }
      ]
    },
    {
      "cell_type": "code",
      "source": [
        "del student['grade']"
      ],
      "metadata": {
        "id": "wnkkuSRGKfdv"
      },
      "id": "wnkkuSRGKfdv",
      "execution_count": null,
      "outputs": []
    },
    {
      "cell_type": "code",
      "source": [
        "student"
      ],
      "metadata": {
        "colab": {
          "base_uri": "https://localhost:8080/"
        },
        "id": "OZvO3YgoLGeg",
        "outputId": "c9cf05ce-285e-4c27-f5a8-98dc6abf764d"
      },
      "id": "OZvO3YgoLGeg",
      "execution_count": null,
      "outputs": [
        {
          "output_type": "execute_result",
          "data": {
            "text/plain": [
              "{'name': 'Alice', 'age': 20, 'course': 'Math'}"
            ]
          },
          "metadata": {},
          "execution_count": 17
        }
      ]
    },
    {
      "cell_type": "markdown",
      "id": "dcadfb67",
      "metadata": {
        "id": "dcadfb67"
      },
      "source": [
        "## Control Flow (if, for, while, etc.)"
      ]
    },
    {
      "cell_type": "markdown",
      "id": "b53d332b",
      "metadata": {
        "id": "b53d332b"
      },
      "source": [
        "**1. Write a Python program to print all even numbers between 1 and 50 using a for loop.**"
      ]
    },
    {
      "cell_type": "code",
      "execution_count": null,
      "id": "7f0ceebb",
      "metadata": {
        "id": "7f0ceebb",
        "colab": {
          "base_uri": "https://localhost:8080/"
        },
        "outputId": "b7fc24cf-3aae-4686-92bb-fb45e35043f0"
      },
      "outputs": [
        {
          "output_type": "stream",
          "name": "stdout",
          "text": [
            "2\n",
            "4\n",
            "6\n",
            "8\n",
            "10\n",
            "12\n",
            "14\n",
            "16\n",
            "18\n",
            "20\n",
            "22\n",
            "24\n",
            "26\n",
            "28\n",
            "30\n",
            "32\n",
            "34\n",
            "36\n",
            "38\n",
            "40\n",
            "42\n",
            "44\n",
            "46\n",
            "48\n"
          ]
        }
      ],
      "source": [
        "for even in range(1, 50):\n",
        "    if even % 2 == 0:\n",
        "        print(even)"
      ]
    },
    {
      "cell_type": "markdown",
      "id": "0e713a7c",
      "metadata": {
        "id": "0e713a7c"
      },
      "source": [
        "**2. What is the purpose of the break and continue statements in loops? Give examples.**"
      ]
    },
    {
      "cell_type": "code",
      "execution_count": null,
      "id": "23b92dc8",
      "metadata": {
        "id": "23b92dc8"
      },
      "outputs": [],
      "source": [
        "break stops the loop and continue skips the loop and moves to the next one"
      ]
    },
    {
      "cell_type": "markdown",
      "id": "9c2648b7",
      "metadata": {
        "id": "9c2648b7"
      },
      "source": [
        "**3. Write a program that takes an integer input and prints whether it’s positive, negative, or zero.**"
      ]
    },
    {
      "cell_type": "code",
      "source": [
        "num = int(input(\"Enter a number:\"))\n",
        "if num > 0:\n",
        "  print(\"The number is positive\")\n",
        "  if num < 0:\n",
        "    print(\"The number is negative\")\n",
        "else:\n",
        "  print(\"The number is zero\")\n"
      ],
      "metadata": {
        "colab": {
          "base_uri": "https://localhost:8080/"
        },
        "id": "AD5kKnWIOtBy",
        "outputId": "3b16ff9a-449d-4900-c427-8e6835742261"
      },
      "id": "AD5kKnWIOtBy",
      "execution_count": null,
      "outputs": [
        {
          "output_type": "stream",
          "name": "stdout",
          "text": [
            "Enter a number:0\n",
            "The number is zero\n"
          ]
        }
      ]
    },
    {
      "cell_type": "markdown",
      "source": [
        "**4. Write a Python program to check if a number is positive or negative.**"
      ],
      "metadata": {
        "id": "1_jB5JbvDotA"
      },
      "id": "1_jB5JbvDotA"
    },
    {
      "cell_type": "code",
      "source": [
        "num = float(input(\"Enter a number:\"))\n",
        "if num > 0:\n",
        "  print(\"The number is positive\")\n",
        "else:\n",
        "  print(\"The number is negative\")"
      ],
      "metadata": {
        "id": "o1dAmGESDyGO",
        "colab": {
          "base_uri": "https://localhost:8080/"
        },
        "outputId": "d50246da-933a-40f2-8e80-c578dc2449b4"
      },
      "id": "o1dAmGESDyGO",
      "execution_count": null,
      "outputs": [
        {
          "output_type": "stream",
          "name": "stdout",
          "text": [
            "Enter a number:-8\n",
            "The number is negative\n"
          ]
        }
      ]
    },
    {
      "cell_type": "markdown",
      "source": [
        "**5. Write a program that checks whether a person is old enough to vote (age ≥ 18).**"
      ],
      "metadata": {
        "id": "8Zzr8XoQDz9F"
      },
      "id": "8Zzr8XoQDz9F"
    },
    {
      "cell_type": "code",
      "source": [
        "check_vote = int(input(\"Enter your age:\"))\n",
        "if check_vote >= 18:\n",
        "  print('You can vote')\n",
        "else:\n",
        "  print('You are not old enough to vote')"
      ],
      "metadata": {
        "id": "HuxiDIF_DiZm",
        "colab": {
          "base_uri": "https://localhost:8080/"
        },
        "outputId": "eb1b9aab-379a-4085-ff09-b8b47d9d817a"
      },
      "id": "HuxiDIF_DiZm",
      "execution_count": null,
      "outputs": [
        {
          "output_type": "stream",
          "name": "stdout",
          "text": [
            "Enter your age:17\n",
            "You are not old enough to vote\n"
          ]
        }
      ]
    },
    {
      "cell_type": "markdown",
      "source": [
        "**6. Create a program that takes a student’s score and prints:\n",
        "\n",
        "    “A” if score ≥ 90\n",
        "\n",
        "    “B” if score ≥ 80\n",
        "\n",
        "    “C” if score ≥ 70\n",
        "\n",
        "    “D” if score ≥ 60\n",
        "\n",
        "    “F” otherwise**"
      ],
      "metadata": {
        "id": "qo7RgmyMD_Bg"
      },
      "id": "qo7RgmyMD_Bg"
    },
    {
      "cell_type": "code",
      "source": [
        "score = int(input(\"Enter your exams score\"))\n",
        "if score >= 90:\n",
        "  print(\"Exellent, you had an A\")\n",
        "elif score >= 80:\n",
        "  print(\"Very good, you had B\")\n",
        "elif score >= 70:\n",
        "  print(\"Good, you had C\")\n",
        "elif score >= 60:\n",
        "  print(\"Low you had D\")\n",
        "else:\n",
        "  print(\"F\")"
      ],
      "metadata": {
        "id": "0x_OBgJNEIqu",
        "colab": {
          "base_uri": "https://localhost:8080/"
        },
        "outputId": "0dff9049-00e6-4d9d-d093-f19c307fb5ad"
      },
      "id": "0x_OBgJNEIqu",
      "execution_count": null,
      "outputs": [
        {
          "output_type": "stream",
          "name": "stdout",
          "text": [
            "Enter your exams score60\n",
            "F\n"
          ]
        }
      ]
    },
    {
      "cell_type": "markdown",
      "id": "884d88ea",
      "metadata": {
        "id": "884d88ea"
      },
      "source": [
        "## Functions (def)"
      ]
    },
    {
      "cell_type": "markdown",
      "id": "a3327528",
      "metadata": {
        "id": "a3327528"
      },
      "source": [
        "**1. Write a function is_prime(n) that returns True if n is a prime number, otherwise False.**"
      ]
    },
    {
      "cell_type": "code",
      "source": [
        "def is_prime(n):\n",
        "\n",
        "  if n < 2:\n",
        "    return False\n",
        "\n",
        "  for i in range(2, int(n**0.5) + 1):\n",
        "    if n % i == 0:\n",
        "      return False\n",
        "  return True\n"
      ],
      "metadata": {
        "id": "WNqMkCtnqrK4"
      },
      "id": "WNqMkCtnqrK4",
      "execution_count": 3,
      "outputs": []
    },
    {
      "cell_type": "code",
      "source": [
        "  print(is_prime(5003))"
      ],
      "metadata": {
        "colab": {
          "base_uri": "https://localhost:8080/"
        },
        "id": "i7eO0iWPtXkI",
        "outputId": "fa8c59a9-9b55-405f-e23e-716088d15eb1"
      },
      "id": "i7eO0iWPtXkI",
      "execution_count": 4,
      "outputs": [
        {
          "output_type": "stream",
          "name": "stdout",
          "text": [
            "True\n"
          ]
        }
      ]
    },
    {
      "cell_type": "markdown",
      "id": "5cfa6804",
      "metadata": {
        "id": "5cfa6804"
      },
      "source": [
        "## Classes (Object-Oriented Programming)"
      ]
    },
    {
      "cell_type": "markdown",
      "id": "fdcc7267",
      "metadata": {
        "id": "fdcc7267"
      },
      "source": [
        "**1. Write a simple class laptop with attributes brand and specs, and a method display_info() that prints them.**"
      ]
    },
    {
      "cell_type": "markdown",
      "source": [],
      "metadata": {
        "id": "U-7eRFmNhNAA"
      },
      "id": "U-7eRFmNhNAA"
    },
    {
      "cell_type": "code",
      "execution_count": null,
      "id": "be97747f",
      "metadata": {
        "id": "be97747f",
        "colab": {
          "base_uri": "https://localhost:8080/"
        },
        "outputId": "bb512ea9-a951-4221-d1c2-4cda4aebcfe0"
      },
      "outputs": [
        {
          "output_type": "stream",
          "name": "stdout",
          "text": [
            "Brand: hp\n",
            "Specs: intel i7, 16GB RAM, 500GB SSD\n"
          ]
        }
      ],
      "source": [
        "class laptop:\n",
        "  def __init__(self, brand, specs):\n",
        "    self.brand = brand\n",
        "    self.specs = specs\n",
        "\n",
        "  def display_info(self):\n",
        "    print(f\"Brand: {self.brand}\")\n",
        "    print(f\"Specs: {self.specs}\")\n",
        "\n",
        "my_laptop = laptop(\"hp\", \"intel i7, 16GB RAM, 500GB SSD\")\n",
        "my_laptop.display_info()"
      ]
    },
    {
      "cell_type": "code",
      "source": [],
      "metadata": {
        "id": "SF7U85Fmm2jd"
      },
      "id": "SF7U85Fmm2jd",
      "execution_count": null,
      "outputs": []
    }
  ],
  "metadata": {
    "colab": {
      "provenance": [],
      "include_colab_link": true
    },
    "language_info": {
      "name": "python"
    },
    "kernelspec": {
      "name": "python3",
      "display_name": "Python 3"
    }
  },
  "nbformat": 4,
  "nbformat_minor": 5
}