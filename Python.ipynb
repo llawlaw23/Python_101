{
  "nbformat": 4,
  "nbformat_minor": 0,
  "metadata": {
    "colab": {
      "provenance": []
    },
    "kernelspec": {
      "name": "python3",
      "display_name": "Python 3"
    },
    "language_info": {
      "name": "python"
    }
  },
  "cells": [
    {
      "cell_type": "markdown",
      "source": [
        "Datatypes\n",
        "string\n",
        "int\n",
        "float"
      ],
      "metadata": {
        "id": "6j9VJzIt4U_r"
      }
    },
    {
      "cell_type": "code",
      "source": [
        "print(\"Hello World\")"
      ],
      "metadata": {
        "colab": {
          "base_uri": "https://localhost:8080/"
        },
        "id": "pwihCN163wwD",
        "outputId": "966d4257-8520-4e7c-cca1-c9c1de54774e"
      },
      "execution_count": 8,
      "outputs": [
        {
          "output_type": "stream",
          "name": "stdout",
          "text": [
            "Hello World\n"
          ]
        }
      ]
    },
    {
      "cell_type": "code",
      "source": [
        "print(5 + 4)"
      ],
      "metadata": {
        "colab": {
          "base_uri": "https://localhost:8080/"
        },
        "id": "QB2tf6ak4uDk",
        "outputId": "372ebb7b-911c-4900-f49b-87c71f55933b"
      },
      "execution_count": 18,
      "outputs": [
        {
          "output_type": "stream",
          "name": "stdout",
          "text": [
            "9\n"
          ]
        }
      ]
    },
    {
      "cell_type": "code",
      "source": [
        "num1 = 5\n",
        "num2 = 4\n",
        "sum = num1 + num2\n",
        "print(sum)"
      ],
      "metadata": {
        "colab": {
          "base_uri": "https://localhost:8080/"
        },
        "id": "UrGzMwN55v4Y",
        "outputId": "e6c9bdd0-fbf9-4a3e-bf48-5ca08729da9a"
      },
      "execution_count": 19,
      "outputs": [
        {
          "output_type": "stream",
          "name": "stdout",
          "text": [
            "9\n"
          ]
        }
      ]
    },
    {
      "cell_type": "code",
      "source": [
        "sum"
      ],
      "metadata": {
        "colab": {
          "base_uri": "https://localhost:8080/"
        },
        "id": "OhkYBXjD64N1",
        "outputId": "f38853d4-4475-46e7-8cb1-49a1ca3b7da0"
      },
      "execution_count": 33,
      "outputs": [
        {
          "output_type": "execute_result",
          "data": {
            "text/plain": [
              "9"
            ]
          },
          "metadata": {},
          "execution_count": 33
        }
      ]
    },
    {
      "cell_type": "code",
      "source": [
        "law = \"Theresa\"\n",
        "tess = \"'s\""
      ],
      "metadata": {
        "id": "_JcwK1LZ7BAE"
      },
      "execution_count": 28,
      "outputs": []
    },
    {
      "cell_type": "code",
      "source": [
        "law"
      ],
      "metadata": {
        "colab": {
          "base_uri": "https://localhost:8080/",
          "height": 35
        },
        "id": "tIWfKSXUEyOv",
        "outputId": "96329965-296f-426a-c1a3-acb64116d395"
      },
      "execution_count": 32,
      "outputs": [
        {
          "output_type": "execute_result",
          "data": {
            "text/plain": [
              "'Theresa'"
            ],
            "application/vnd.google.colaboratory.intrinsic+json": {
              "type": "string"
            }
          },
          "metadata": {},
          "execution_count": 32
        }
      ]
    },
    {
      "cell_type": "code",
      "source": [
        "# print Theresa's\n",
        "# what concatenation means\n",
        "print(law + tess)\n",
        "print(\"Theresa\" + \"'s\")"
      ],
      "metadata": {
        "colab": {
          "base_uri": "https://localhost:8080/"
        },
        "id": "l1kGI2jz7M_3",
        "outputId": "dfee60d6-7f0e-42d9-e278-a006603a37be"
      },
      "execution_count": 29,
      "outputs": [
        {
          "output_type": "stream",
          "name": "stdout",
          "text": [
            "Theresa's\n"
          ]
        }
      ]
    },
    {
      "cell_type": "code",
      "source": [
        "print(\"Theresa\\'s\")"
      ],
      "metadata": {
        "colab": {
          "base_uri": "https://localhost:8080/"
        },
        "id": "5LRt6kKx8rX6",
        "outputId": "d2aeeb0a-566d-4118-8703-2e35a0cff15e"
      },
      "execution_count": 30,
      "outputs": [
        {
          "output_type": "stream",
          "name": "stdout",
          "text": [
            "Theresa's\n"
          ]
        }
      ]
    },
    {
      "cell_type": "code",
      "source": [
        "# Numerical Data\n",
        "# Exponent = **"
      ],
      "metadata": {
        "colab": {
          "base_uri": "https://localhost:8080/"
        },
        "id": "EDMNRzuE9Xjm",
        "outputId": "1760293e-7579-4850-875f-5e50cf297a5a"
      },
      "execution_count": 31,
      "outputs": [
        {
          "output_type": "stream",
          "name": "stdout",
          "text": [
            "8\n"
          ]
        }
      ]
    },
    {
      "cell_type": "code",
      "source": [
        "name = \"Tess\"\n",
        "age = 24\n",
        "height = 5.5\n",
        "is_student = True"
      ],
      "metadata": {
        "id": "k3kEe3gd_NaL"
      },
      "execution_count": 34,
      "outputs": []
    },
    {
      "cell_type": "code",
      "source": [
        "print(\"student Name:\",name)\n",
        "print(\"Studenet age:\", age)\n",
        "print(\"student height:\", height)\n",
        "print(\"is she a student:\", is_student)"
      ],
      "metadata": {
        "colab": {
          "base_uri": "https://localhost:8080/"
        },
        "id": "iPkRGoQ6Fg4b",
        "outputId": "e88e50dd-7564-4000-e25f-3752ebe88c1e"
      },
      "execution_count": 40,
      "outputs": [
        {
          "output_type": "stream",
          "name": "stdout",
          "text": [
            "student Name: Tess\n",
            "Studenet age: 24\n",
            "student height: 5.5\n",
            "is she a student: True\n"
          ]
        }
      ]
    },
    {
      "cell_type": "code",
      "source": [
        "# Checking for datatypes\n",
        "print(type(name))\n",
        "print(type(age))\n",
        "print(type(height))\n",
        "print(type(is_student))"
      ],
      "metadata": {
        "colab": {
          "base_uri": "https://localhost:8080/"
        },
        "id": "wKNHbroxFyLo",
        "outputId": "7940cea6-f7cd-4a7e-bb19-b8b301768d54"
      },
      "execution_count": 58,
      "outputs": [
        {
          "output_type": "stream",
          "name": "stdout",
          "text": [
            "<class 'str'>\n",
            "<class 'int'>\n",
            "<class 'float'>\n",
            "<class 'bool'>\n"
          ]
        }
      ]
    },
    {
      "cell_type": "code",
      "source": [
        "type(name)"
      ],
      "metadata": {
        "colab": {
          "base_uri": "https://localhost:8080/"
        },
        "id": "BXo3MnXpHvRN",
        "outputId": "a1aceac1-9392-4e8b-c813-873dab8d45a0"
      },
      "execution_count": 59,
      "outputs": [
        {
          "output_type": "execute_result",
          "data": {
            "text/plain": [
              "str"
            ]
          },
          "metadata": {},
          "execution_count": 59
        }
      ]
    },
    {
      "cell_type": "code",
      "source": [
        "# Undeerstanding the input function\n",
        "name = input(\"Enter your name: \")\n",
        "age = input(\"Enter your age: \")\n",
        "\n",
        "print(\"Hello\", name + \", you are\", age , \"years old\")"
      ],
      "metadata": {
        "colab": {
          "base_uri": "https://localhost:8080/"
        },
        "id": "kW5tidXCI3ie",
        "outputId": "f6740659-de69-4ccd-ca90-3c80935ab7f3"
      },
      "execution_count": 62,
      "outputs": [
        {
          "output_type": "stream",
          "name": "stdout",
          "text": [
            "Enter your name: Lawrencia\n",
            "Enter your age: 27\n",
            "Hello Lawrencia, you are 27 years old\n"
          ]
        }
      ]
    },
    {
      "cell_type": "code",
      "source": [
        "num1 = str(input(\"Enter your first number\"))\n",
        "num2 = str(input(\"Enter your second number\"))\n",
        "\n",
        "print(num1 + num2)"
      ],
      "metadata": {
        "colab": {
          "base_uri": "https://localhost:8080/"
        },
        "id": "LUxDedlmJfw5",
        "outputId": "cf202810-1092-4d4e-d8c1-ea1e7a1ef507"
      },
      "execution_count": 67,
      "outputs": [
        {
          "output_type": "stream",
          "name": "stdout",
          "text": [
            "Enter your first number24\n",
            "Enter your second number23\n",
            "2423\n"
          ]
        }
      ]
    },
    {
      "cell_type": "code",
      "source": [
        "num1"
      ],
      "metadata": {
        "colab": {
          "base_uri": "https://localhost:8080/"
        },
        "id": "3pM3RtxCKvjQ",
        "outputId": "75a9b501-4050-4d8c-f89d-e726920d0fd9"
      },
      "execution_count": 66,
      "outputs": [
        {
          "output_type": "execute_result",
          "data": {
            "text/plain": [
              "23.0"
            ]
          },
          "metadata": {},
          "execution_count": 66
        }
      ]
    },
    {
      "cell_type": "code",
      "source": [
        "num1 = float(input(\"Enter your first number:\" ))\n",
        "num2 = float(input(\"Enter your second number:\" ))\n",
        "\n",
        "print(num1 + num2)"
      ],
      "metadata": {
        "colab": {
          "base_uri": "https://localhost:8080/"
        },
        "id": "SZKkDCyXKwjh",
        "outputId": "764b7d79-a980-4d55-b501-dce28eac9520"
      },
      "execution_count": 70,
      "outputs": [
        {
          "output_type": "stream",
          "name": "stdout",
          "text": [
            "Enter your first number:24\n",
            "Enter your second number:23\n",
            "47.0\n"
          ]
        }
      ]
    },
    {
      "cell_type": "code",
      "source": [
        "# Operators\n",
        "# Arithmetic, compasrison, logical\n",
        "a = 10\n",
        "b = 3\n",
        "\n",
        "print(a + b)\n",
        "print(a - b)\n",
        "print(a * b)\n",
        "print(a / b)\n",
        "print(a % b)\n",
        "print(a // b)\n",
        "print(a ** b)\n",
        "print(a > b)"
      ],
      "metadata": {
        "colab": {
          "base_uri": "https://localhost:8080/"
        },
        "id": "FhiAYAk8L1qM",
        "outputId": "f513f381-c282-4b91-916f-71724525117d"
      },
      "execution_count": 72,
      "outputs": [
        {
          "output_type": "stream",
          "name": "stdout",
          "text": [
            "13\n",
            "7\n",
            "30\n",
            "3.3333333333333335\n",
            "1\n",
            "3\n",
            "1000\n",
            "True\n"
          ]
        }
      ]
    },
    {
      "cell_type": "code",
      "source": [
        "# Example of logical operator\n",
        "age = 24\n",
        "is_student = True\n",
        "\n",
        "if age >= 25 and is_student:\n",
        "  print(\"You are a Adult\")\n",
        "\n",
        "if age >= 25 or is_student:\n",
        "  print(\"You are a Adult\")"
      ],
      "metadata": {
        "colab": {
          "base_uri": "https://localhost:8080/"
        },
        "id": "m2e8opELNcT4",
        "outputId": "9d78aa2d-7e98-4ac6-8e62-3d0454fe0a52"
      },
      "execution_count": 76,
      "outputs": [
        {
          "output_type": "stream",
          "name": "stdout",
          "text": [
            "You are a Adult\n"
          ]
        }
      ]
    },
    {
      "cell_type": "code",
      "source": [
        "Control flow"
      ],
      "metadata": {
        "id": "FzcLeARmO2lh"
      },
      "execution_count": null,
      "outputs": []
    }
  ]
}