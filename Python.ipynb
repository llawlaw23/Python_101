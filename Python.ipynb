{
  "nbformat": 4,
  "nbformat_minor": 0,
  "metadata": {
    "colab": {
      "provenance": [],
      "authorship_tag": "ABX9TyOBwtM1QnFyiPsH+vU7+4yY"
    },
    "kernelspec": {
      "name": "python3",
      "display_name": "Python 3"
    },
    "language_info": {
      "name": "python"
    }
  },
  "cells": [
    {
      "cell_type": "markdown",
      "source": [
        "Datatypes and variables"
      ],
      "metadata": {
        "id": "6j9VJzIt4U_r"
      }
    },
    {
      "cell_type": "code",
      "source": [
        "print(\"Hello World\")"
      ],
      "metadata": {
        "colab": {
          "base_uri": "https://localhost:8080/"
        },
        "id": "pwihCN163wwD",
        "outputId": "966d4257-8520-4e7c-cca1-c9c1de54774e"
      },
      "execution_count": null,
      "outputs": [
        {
          "output_type": "stream",
          "name": "stdout",
          "text": [
            "Hello World\n"
          ]
        }
      ]
    },
    {
      "cell_type": "code",
      "source": [
        "print(5 + 4)"
      ],
      "metadata": {
        "colab": {
          "base_uri": "https://localhost:8080/"
        },
        "id": "QB2tf6ak4uDk",
        "outputId": "372ebb7b-911c-4900-f49b-87c71f55933b"
      },
      "execution_count": null,
      "outputs": [
        {
          "output_type": "stream",
          "name": "stdout",
          "text": [
            "9\n"
          ]
        }
      ]
    },
    {
      "cell_type": "code",
      "source": [
        "num1 = 5\n",
        "num2 = 4\n",
        "sum = num1 + num2\n",
        "print(sum)"
      ],
      "metadata": {
        "colab": {
          "base_uri": "https://localhost:8080/"
        },
        "id": "UrGzMwN55v4Y",
        "outputId": "e6c9bdd0-fbf9-4a3e-bf48-5ca08729da9a"
      },
      "execution_count": null,
      "outputs": [
        {
          "output_type": "stream",
          "name": "stdout",
          "text": [
            "9\n"
          ]
        }
      ]
    },
    {
      "cell_type": "code",
      "source": [
        "sum"
      ],
      "metadata": {
        "colab": {
          "base_uri": "https://localhost:8080/"
        },
        "id": "OhkYBXjD64N1",
        "outputId": "f38853d4-4475-46e7-8cb1-49a1ca3b7da0"
      },
      "execution_count": null,
      "outputs": [
        {
          "output_type": "execute_result",
          "data": {
            "text/plain": [
              "9"
            ]
          },
          "metadata": {},
          "execution_count": 33
        }
      ]
    },
    {
      "cell_type": "code",
      "source": [
        "law = \"Theresa\"\n",
        "tess = \"'s\""
      ],
      "metadata": {
        "id": "_JcwK1LZ7BAE"
      },
      "execution_count": null,
      "outputs": []
    },
    {
      "cell_type": "code",
      "source": [
        "law"
      ],
      "metadata": {
        "colab": {
          "base_uri": "https://localhost:8080/",
          "height": 35
        },
        "id": "tIWfKSXUEyOv",
        "outputId": "96329965-296f-426a-c1a3-acb64116d395"
      },
      "execution_count": null,
      "outputs": [
        {
          "output_type": "execute_result",
          "data": {
            "text/plain": [
              "'Theresa'"
            ],
            "application/vnd.google.colaboratory.intrinsic+json": {
              "type": "string"
            }
          },
          "metadata": {},
          "execution_count": 32
        }
      ]
    },
    {
      "cell_type": "code",
      "source": [
        "# print Theresa's\n",
        "# what concatenation means\n",
        "print(law + tess)\n",
        "print(\"Theresa\" + \"'s\")"
      ],
      "metadata": {
        "colab": {
          "base_uri": "https://localhost:8080/"
        },
        "id": "l1kGI2jz7M_3",
        "outputId": "dfee60d6-7f0e-42d9-e278-a006603a37be"
      },
      "execution_count": null,
      "outputs": [
        {
          "output_type": "stream",
          "name": "stdout",
          "text": [
            "Theresa's\n"
          ]
        }
      ]
    },
    {
      "cell_type": "code",
      "source": [
        "print(\"Theresa\\'s\")"
      ],
      "metadata": {
        "colab": {
          "base_uri": "https://localhost:8080/"
        },
        "id": "5LRt6kKx8rX6",
        "outputId": "d2aeeb0a-566d-4118-8703-2e35a0cff15e"
      },
      "execution_count": null,
      "outputs": [
        {
          "output_type": "stream",
          "name": "stdout",
          "text": [
            "Theresa's\n"
          ]
        }
      ]
    },
    {
      "cell_type": "code",
      "source": [
        "# Numerical Data\n",
        "# Exponent = **"
      ],
      "metadata": {
        "colab": {
          "base_uri": "https://localhost:8080/"
        },
        "id": "EDMNRzuE9Xjm",
        "outputId": "1760293e-7579-4850-875f-5e50cf297a5a"
      },
      "execution_count": null,
      "outputs": [
        {
          "output_type": "stream",
          "name": "stdout",
          "text": [
            "8\n"
          ]
        }
      ]
    },
    {
      "cell_type": "code",
      "source": [
        "name = \"Tess\"\n",
        "age = 24\n",
        "height = 5.5\n",
        "is_student = True"
      ],
      "metadata": {
        "id": "k3kEe3gd_NaL"
      },
      "execution_count": null,
      "outputs": []
    },
    {
      "cell_type": "code",
      "source": [
        "print(\"student Name:\",name)\n",
        "print(\"Studenet age:\", age)\n",
        "print(\"student height:\", height)\n",
        "print(\"is she a student:\", is_student)"
      ],
      "metadata": {
        "colab": {
          "base_uri": "https://localhost:8080/"
        },
        "id": "iPkRGoQ6Fg4b",
        "outputId": "e88e50dd-7564-4000-e25f-3752ebe88c1e"
      },
      "execution_count": null,
      "outputs": [
        {
          "output_type": "stream",
          "name": "stdout",
          "text": [
            "student Name: Tess\n",
            "Studenet age: 24\n",
            "student height: 5.5\n",
            "is she a student: True\n"
          ]
        }
      ]
    },
    {
      "cell_type": "code",
      "source": [
        "# Checking for datatypes\n",
        "print(type(name))\n",
        "print(type(age))\n",
        "print(type(height))\n",
        "print(type(is_student))"
      ],
      "metadata": {
        "colab": {
          "base_uri": "https://localhost:8080/"
        },
        "id": "wKNHbroxFyLo",
        "outputId": "7940cea6-f7cd-4a7e-bb19-b8b301768d54"
      },
      "execution_count": null,
      "outputs": [
        {
          "output_type": "stream",
          "name": "stdout",
          "text": [
            "<class 'str'>\n",
            "<class 'int'>\n",
            "<class 'float'>\n",
            "<class 'bool'>\n"
          ]
        }
      ]
    },
    {
      "cell_type": "code",
      "source": [
        "type(name)"
      ],
      "metadata": {
        "colab": {
          "base_uri": "https://localhost:8080/"
        },
        "id": "BXo3MnXpHvRN",
        "outputId": "a1aceac1-9392-4e8b-c813-873dab8d45a0"
      },
      "execution_count": null,
      "outputs": [
        {
          "output_type": "execute_result",
          "data": {
            "text/plain": [
              "str"
            ]
          },
          "metadata": {},
          "execution_count": 59
        }
      ]
    },
    {
      "cell_type": "code",
      "source": [
        "# Undeerstanding the input function\n",
        "name = input(\"Enter your name: \")\n",
        "age = input(\"Enter your age: \")\n",
        "\n",
        "print(\"Hello\", name + \", you are\", age , \"years old\")"
      ],
      "metadata": {
        "colab": {
          "base_uri": "https://localhost:8080/"
        },
        "id": "kW5tidXCI3ie",
        "outputId": "b2882b44-4407-4d49-ab0f-9e1c12f80e75"
      },
      "execution_count": 41,
      "outputs": [
        {
          "output_type": "stream",
          "name": "stdout",
          "text": [
            "Enter your name: Tess\n",
            "Enter your age: 22\n",
            "Hello Tess, you are 22 years old\n"
          ]
        }
      ]
    },
    {
      "cell_type": "code",
      "source": [
        "print(f\"Hello {name}, you are {age} years old\")"
      ],
      "metadata": {
        "colab": {
          "base_uri": "https://localhost:8080/"
        },
        "id": "hGzC6i3kvWrN",
        "outputId": "9d834938-38b6-4a83-ea05-62269fc6008a"
      },
      "execution_count": 43,
      "outputs": [
        {
          "output_type": "stream",
          "name": "stdout",
          "text": [
            "Hello Tess, you are 22 years old\n"
          ]
        }
      ]
    },
    {
      "cell_type": "code",
      "source": [
        "num1 = str(input(\"Enter your first number\"))\n",
        "num2 = str(input(\"Enter your second number\"))\n",
        "\n",
        "print(num1 + num2)"
      ],
      "metadata": {
        "colab": {
          "base_uri": "https://localhost:8080/"
        },
        "id": "LUxDedlmJfw5",
        "outputId": "a9a11af9-9a04-4859-e308-42db20044355"
      },
      "execution_count": 44,
      "outputs": [
        {
          "output_type": "stream",
          "name": "stdout",
          "text": [
            "Enter your first number3\n",
            "Enter your second number4\n",
            "34\n"
          ]
        }
      ]
    },
    {
      "cell_type": "code",
      "source": [
        "3num1"
      ],
      "metadata": {
        "colab": {
          "base_uri": "https://localhost:8080/"
        },
        "id": "3pM3RtxCKvjQ",
        "outputId": "75a9b501-4050-4d8c-f89d-e726920d0fd9"
      },
      "execution_count": null,
      "outputs": [
        {
          "output_type": "execute_result",
          "data": {
            "text/plain": [
              "23.0"
            ]
          },
          "metadata": {},
          "execution_count": 66
        }
      ]
    },
    {
      "cell_type": "code",
      "source": [
        "num1 = float(input(\"Enter your first number:\" ))\n",
        "num2 = float(input(\"Enter your second number:\" ))\n",
        "\n",
        "print(num1 + num2)"
      ],
      "metadata": {
        "colab": {
          "base_uri": "https://localhost:8080/"
        },
        "id": "SZKkDCyXKwjh",
        "outputId": "764b7d79-a980-4d55-b501-dce28eac9520"
      },
      "execution_count": null,
      "outputs": [
        {
          "output_type": "stream",
          "name": "stdout",
          "text": [
            "Enter your first number:24\n",
            "Enter your second number:23\n",
            "47.0\n"
          ]
        }
      ]
    },
    {
      "cell_type": "code",
      "source": [
        "# Operators\n",
        "# Arithmetic, compasrison, logical\n",
        "a = 10\n",
        "b = 3\n",
        "\n",
        "print(a + b)\n",
        "print(a - b)\n",
        "print(a * b)\n",
        "print(a / b)\n",
        "print(a % b)\n",
        "print(a // b)\n",
        "print(a ** b)\n",
        "print(a > b)"
      ],
      "metadata": {
        "colab": {
          "base_uri": "https://localhost:8080/"
        },
        "id": "FhiAYAk8L1qM",
        "outputId": "f513f381-c282-4b91-916f-71724525117d"
      },
      "execution_count": null,
      "outputs": [
        {
          "output_type": "stream",
          "name": "stdout",
          "text": [
            "13\n",
            "7\n",
            "30\n",
            "3.3333333333333335\n",
            "1\n",
            "3\n",
            "1000\n",
            "True\n"
          ]
        }
      ]
    },
    {
      "cell_type": "code",
      "source": [
        "# age = 24\n",
        "# is_student = True\n",
        "\n",
        "# if age >= 25 and is_student:\n",
        "#   print(\"You are a Adult\")\n",
        "\n",
        "# if age >= 25 or is_student:\n",
        "#   print(\"You are a Adult\")"
      ],
      "metadata": {
        "id": "p12WKowpnQ8Y"
      },
      "execution_count": null,
      "outputs": []
    },
    {
      "cell_type": "code",
      "source": [
        "# Example of logical operator\n",
        "1 == 1\n",
        "2 == 2"
      ],
      "metadata": {
        "colab": {
          "base_uri": "https://localhost:8080/"
        },
        "id": "m2e8opELNcT4",
        "outputId": "c6b6ee4f-3cfb-4a46-b99c-95dceafd2717"
      },
      "execution_count": 3,
      "outputs": [
        {
          "output_type": "execute_result",
          "data": {
            "text/plain": [
              "True"
            ]
          },
          "metadata": {},
          "execution_count": 3
        }
      ]
    },
    {
      "cell_type": "markdown",
      "source": [
        "Data Structures\n",
        "- List\n",
        "- sets\n",
        "- tuples\n",
        "- dictionaries\n",
        "- slicing and indexing"
      ],
      "metadata": {
        "id": "RH7e4DBQkMy7"
      }
    },
    {
      "cell_type": "markdown",
      "source": [
        "datatypes you can index\n",
        "- string\n",
        "- list"
      ],
      "metadata": {
        "id": "0EIkCA7Frxeg"
      }
    },
    {
      "cell_type": "code",
      "source": [
        "my_list =[1, 2, 3, 4, 5, 6, 7, 8, 9, 10]"
      ],
      "metadata": {
        "id": "LzqDIpwgvPky"
      },
      "execution_count": null,
      "outputs": []
    },
    {
      "cell_type": "code",
      "source": [
        "law = \"lawrencia\""
      ],
      "metadata": {
        "id": "upzbsNHtrdrR"
      },
      "execution_count": 22,
      "outputs": []
    },
    {
      "cell_type": "code",
      "source": [
        "law[3]"
      ],
      "metadata": {
        "colab": {
          "base_uri": "https://localhost:8080/",
          "height": 35
        },
        "id": "XFDjDPYcrgVa",
        "outputId": "f9136be7-96f3-4a19-c45c-b50fc64f6255"
      },
      "execution_count": 23,
      "outputs": [
        {
          "output_type": "execute_result",
          "data": {
            "text/plain": [
              "'r'"
            ],
            "application/vnd.google.colaboratory.intrinsic+json": {
              "type": "string"
            }
          },
          "metadata": {},
          "execution_count": 23
        }
      ]
    },
    {
      "cell_type": "code",
      "source": [
        "type(my_list)"
      ],
      "metadata": {
        "colab": {
          "base_uri": "https://localhost:8080/"
        },
        "id": "adBy5CenpbXQ",
        "outputId": "4849bb5a-43b2-43cf-a5bd-9cd1221a3308"
      },
      "execution_count": 6,
      "outputs": [
        {
          "output_type": "execute_result",
          "data": {
            "text/plain": [
              "list"
            ]
          },
          "metadata": {},
          "execution_count": 6
        }
      ]
    },
    {
      "cell_type": "code",
      "source": [
        "my_list = [\"my\", \"name\", \"is\", \"tess\"]"
      ],
      "metadata": {
        "id": "yoJBB6Ocpd4P"
      },
      "execution_count": 7,
      "outputs": []
    },
    {
      "cell_type": "code",
      "source": [
        "my_list = [True, 1, [1, 2, 3, 4], \"my\"]"
      ],
      "metadata": {
        "id": "XeW--rEipsVv"
      },
      "execution_count": 11,
      "outputs": []
    },
    {
      "cell_type": "code",
      "source": [
        "len(my_list)"
      ],
      "metadata": {
        "colab": {
          "base_uri": "https://localhost:8080/"
        },
        "id": "rStkh2LJpxev",
        "outputId": "c88fa1f9-95ac-4348-ba2a-b0d419719f6c"
      },
      "execution_count": 12,
      "outputs": [
        {
          "output_type": "execute_result",
          "data": {
            "text/plain": [
              "4"
            ]
          },
          "metadata": {},
          "execution_count": 12
        }
      ]
    },
    {
      "cell_type": "code",
      "source": [
        "my_list =[1, 2, 3, 1, 2, 3, 4, 5, 6, 7, 8, 9, 10]"
      ],
      "metadata": {
        "id": "FzcLeARmO2lh"
      },
      "execution_count": 51,
      "outputs": []
    },
    {
      "cell_type": "code",
      "source": [
        "len(my_list)"
      ],
      "metadata": {
        "colab": {
          "base_uri": "https://localhost:8080/"
        },
        "id": "vP1X1acLxBH_",
        "outputId": "dd88f8c2-ff68-46a9-add9-d21d6baf35be"
      },
      "execution_count": 52,
      "outputs": [
        {
          "output_type": "execute_result",
          "data": {
            "text/plain": [
              "13"
            ]
          },
          "metadata": {},
          "execution_count": 52
        }
      ]
    },
    {
      "cell_type": "code",
      "source": [
        "print(my_list[:2])"
      ],
      "metadata": {
        "colab": {
          "base_uri": "https://localhost:8080/"
        },
        "id": "XuJDCAI0qH7F",
        "outputId": "d8163822-642a-4d70-9b3d-df771491794f"
      },
      "execution_count": 26,
      "outputs": [
        {
          "output_type": "stream",
          "name": "stdout",
          "text": [
            "[1, 2]\n"
          ]
        }
      ]
    },
    {
      "cell_type": "code",
      "source": [
        "print(my_list[2:])"
      ],
      "metadata": {
        "colab": {
          "base_uri": "https://localhost:8080/"
        },
        "id": "EPb3vzmNuE2a",
        "outputId": "1a389481-ba59-495c-f00b-8578d198d777"
      },
      "execution_count": 37,
      "outputs": [
        {
          "output_type": "stream",
          "name": "stdout",
          "text": [
            "[3, 4, 5, 6, 7, 8, 9, 10]\n"
          ]
        }
      ]
    },
    {
      "cell_type": "code",
      "source": [
        "# my_list[start:stop:step]\n",
        "print(my_list[1:10:2])"
      ],
      "metadata": {
        "colab": {
          "base_uri": "https://localhost:8080/"
        },
        "id": "hVUWNJR_sjfS",
        "outputId": "ce6dd448-4cd0-4ce4-8573-e0f9e2207e72"
      },
      "execution_count": 39,
      "outputs": [
        {
          "output_type": "stream",
          "name": "stdout",
          "text": [
            "[2, 4, 6, 8, 10]\n"
          ]
        }
      ]
    },
    {
      "cell_type": "code",
      "source": [
        "my_list[-3]"
      ],
      "metadata": {
        "colab": {
          "base_uri": "https://localhost:8080/"
        },
        "id": "nCI7boMktNh1",
        "outputId": "8ae9a28d-5c0b-45ff-920d-54a101f9062a"
      },
      "execution_count": 40,
      "outputs": [
        {
          "output_type": "execute_result",
          "data": {
            "text/plain": [
              "8"
            ]
          },
          "metadata": {},
          "execution_count": 40
        }
      ]
    },
    {
      "cell_type": "markdown",
      "source": [
        "Sets"
      ],
      "metadata": {
        "id": "isCBO1S_vGIL"
      }
    },
    {
      "cell_type": "code",
      "source": [
        "my_set = {1, 2, 3, 1, 2, 4, 5, 6, 3, 4, 5, 7, 8, 9, 10}"
      ],
      "metadata": {
        "id": "QjhlqeTPvCIB"
      },
      "execution_count": 49,
      "outputs": []
    },
    {
      "cell_type": "code",
      "source": [
        "len(my_set)"
      ],
      "metadata": {
        "colab": {
          "base_uri": "https://localhost:8080/"
        },
        "id": "8TiUeOcFwmJq",
        "outputId": "8ae78340-6907-4dd2-ef32-c99b11be717b"
      },
      "execution_count": 50,
      "outputs": [
        {
          "output_type": "execute_result",
          "data": {
            "text/plain": [
              "10"
            ]
          },
          "metadata": {},
          "execution_count": 50
        }
      ]
    },
    {
      "cell_type": "code",
      "source": [
        "{1, 2, 3, 1, 2,} == {1, 2, 3}"
      ],
      "metadata": {
        "colab": {
          "base_uri": "https://localhost:8080/"
        },
        "id": "ziXnWmNTwpBp",
        "outputId": "b0d83fe3-4075-492a-acef-b74034187262"
      },
      "execution_count": 53,
      "outputs": [
        {
          "output_type": "execute_result",
          "data": {
            "text/plain": [
              "True"
            ]
          },
          "metadata": {},
          "execution_count": 53
        }
      ]
    },
    {
      "cell_type": "code",
      "source": [
        "type(my_set)"
      ],
      "metadata": {
        "colab": {
          "base_uri": "https://localhost:8080/"
        },
        "id": "X9y7bYRXxoT4",
        "outputId": "bd3bf781-1e93-4de1-e488-3dc0c1c398bc"
      },
      "execution_count": 54,
      "outputs": [
        {
          "output_type": "execute_result",
          "data": {
            "text/plain": [
              "set"
            ]
          },
          "metadata": {},
          "execution_count": 54
        }
      ]
    },
    {
      "cell_type": "code",
      "source": [
        "my_tuple = (1, 2, 3, 1, 2, 4, 5, 6, 3, 4, 5, 7, 8, 9, 10)"
      ],
      "metadata": {
        "id": "-DUNs8Pfx5Xq"
      },
      "execution_count": 55,
      "outputs": []
    },
    {
      "cell_type": "code",
      "source": [
        "len(my_tuple)"
      ],
      "metadata": {
        "colab": {
          "base_uri": "https://localhost:8080/"
        },
        "id": "nh-J8LQ-yPzu",
        "outputId": "7cef30d6-d654-4b09-99fc-8b84ba2129fe"
      },
      "execution_count": 57,
      "outputs": [
        {
          "output_type": "execute_result",
          "data": {
            "text/plain": [
              "15"
            ]
          },
          "metadata": {},
          "execution_count": 57
        }
      ]
    },
    {
      "cell_type": "markdown",
      "source": [
        "list methods\n",
        "- append\n",
        "- insert\n",
        "- extend\n",
        "- replace\n",
        "- remove\n",
        "- pop\n",
        "- clear\n",
        "- sort and reverse\n",
        "- copy"
      ],
      "metadata": {
        "id": "TgVfY1B3zqhW"
      }
    },
    {
      "cell_type": "code",
      "source": [
        "ap = [1, 2, 3, 4]"
      ],
      "metadata": {
        "id": "qZeMrH13yxL3"
      },
      "execution_count": 71,
      "outputs": []
    },
    {
      "cell_type": "code",
      "source": [
        "ap.append(64)"
      ],
      "metadata": {
        "id": "C_Z45X5d0jLR"
      },
      "execution_count": 72,
      "outputs": []
    },
    {
      "cell_type": "code",
      "source": [
        "ap"
      ],
      "metadata": {
        "colab": {
          "base_uri": "https://localhost:8080/"
        },
        "id": "KX-ROwTU0zhu",
        "outputId": "746887ad-b5c6-43cd-a8ad-173e6830883c"
      },
      "execution_count": 73,
      "outputs": [
        {
          "output_type": "execute_result",
          "data": {
            "text/plain": [
              "[1, 2, 3, 4, 64]"
            ]
          },
          "metadata": {},
          "execution_count": 73
        }
      ]
    },
    {
      "cell_type": "code",
      "source": [
        "ap.insert(2, 7)"
      ],
      "metadata": {
        "id": "miKmnsHV00rN"
      },
      "execution_count": 74,
      "outputs": []
    },
    {
      "cell_type": "code",
      "source": [
        "ap"
      ],
      "metadata": {
        "colab": {
          "base_uri": "https://localhost:8080/"
        },
        "id": "EebBZz8e1YP8",
        "outputId": "9e7ac5d6-1e26-452c-ceeb-b39c56278d60"
      },
      "execution_count": 75,
      "outputs": [
        {
          "output_type": "execute_result",
          "data": {
            "text/plain": [
              "[1, 2, 7, 3, 4, 64]"
            ]
          },
          "metadata": {},
          "execution_count": 75
        }
      ]
    },
    {
      "cell_type": "code",
      "source": [
        "ap.extend([8, 9, 10])"
      ],
      "metadata": {
        "id": "hboY3n7G1ZVf"
      },
      "execution_count": 76,
      "outputs": []
    },
    {
      "cell_type": "code",
      "source": [
        "ap"
      ],
      "metadata": {
        "colab": {
          "base_uri": "https://localhost:8080/"
        },
        "id": "W2PJ3ayr2Yx8",
        "outputId": "85a2450d-0aea-4bb1-dd84-f0d671901054"
      },
      "execution_count": 77,
      "outputs": [
        {
          "output_type": "execute_result",
          "data": {
            "text/plain": [
              "[1, 2, 7, 3, 4, 64, 8, 9, 10]"
            ]
          },
          "metadata": {},
          "execution_count": 77
        }
      ]
    },
    {
      "cell_type": "code",
      "source": [
        "ap[5] = 5"
      ],
      "metadata": {
        "id": "9lS39dTP2ZqP"
      },
      "execution_count": 78,
      "outputs": []
    },
    {
      "cell_type": "code",
      "source": [
        "ap"
      ],
      "metadata": {
        "colab": {
          "base_uri": "https://localhost:8080/"
        },
        "id": "Bgx7jkDq23GT",
        "outputId": "c10b3f71-28af-4162-84a8-c99873121615"
      },
      "execution_count": 79,
      "outputs": [
        {
          "output_type": "execute_result",
          "data": {
            "text/plain": [
              "[1, 2, 7, 3, 4, 5, 8, 9, 10]"
            ]
          },
          "metadata": {},
          "execution_count": 79
        }
      ]
    },
    {
      "cell_type": "code",
      "source": [
        "ap.insert(5, 6)"
      ],
      "metadata": {
        "id": "QTpYuSro24Iz"
      },
      "execution_count": 92,
      "outputs": []
    },
    {
      "cell_type": "code",
      "source": [
        "ap"
      ],
      "metadata": {
        "colab": {
          "base_uri": "https://localhost:8080/"
        },
        "id": "qrOlC5TS3Qo9",
        "outputId": "dc5b4246-9d35-4a91-e0ac-e9f0e649ff2a"
      },
      "execution_count": 83,
      "outputs": [
        {
          "output_type": "execute_result",
          "data": {
            "text/plain": [
              "[1, 2, 7, 3, 4, 5, 6, 8, 6, 9, 10]"
            ]
          },
          "metadata": {},
          "execution_count": 83
        }
      ]
    },
    {
      "cell_type": "code",
      "source": [
        "ap.remove(7)"
      ],
      "metadata": {
        "id": "tVlA29xx3Rmm"
      },
      "execution_count": 90,
      "outputs": []
    },
    {
      "cell_type": "code",
      "source": [
        "ap"
      ],
      "metadata": {
        "colab": {
          "base_uri": "https://localhost:8080/"
        },
        "id": "63AmnQuL3hw3",
        "outputId": "1687ce03-8310-4297-97bb-19d42af3dc5a"
      },
      "execution_count": 93,
      "outputs": [
        {
          "output_type": "execute_result",
          "data": {
            "text/plain": [
              "[1, 2, 3, 4, 5, 6, 9, 10]"
            ]
          },
          "metadata": {},
          "execution_count": 93
        }
      ]
    },
    {
      "cell_type": "code",
      "source": [
        "ap.pop()"
      ],
      "metadata": {
        "colab": {
          "base_uri": "https://localhost:8080/"
        },
        "id": "aX1cQYt43igT",
        "outputId": "f8e0d087-285e-4730-bdbc-72dfcf0860b7"
      },
      "execution_count": 96,
      "outputs": [
        {
          "output_type": "execute_result",
          "data": {
            "text/plain": [
              "9"
            ]
          },
          "metadata": {},
          "execution_count": 96
        }
      ]
    },
    {
      "cell_type": "code",
      "source": [
        "ap"
      ],
      "metadata": {
        "colab": {
          "base_uri": "https://localhost:8080/"
        },
        "id": "b-MTOj084Cua",
        "outputId": "5bafc7eb-5311-4f83-888e-3a46fb7c015e"
      },
      "execution_count": 97,
      "outputs": [
        {
          "output_type": "execute_result",
          "data": {
            "text/plain": [
              "[1, 2, 3, 4, 5, 6]"
            ]
          },
          "metadata": {},
          "execution_count": 97
        }
      ]
    },
    {
      "cell_type": "code",
      "source": [
        "ap.extend([7, 9, 8, 10])"
      ],
      "metadata": {
        "id": "ArJasV8X4EJf"
      },
      "execution_count": 117,
      "outputs": []
    },
    {
      "cell_type": "code",
      "source": [
        "ap"
      ],
      "metadata": {
        "colab": {
          "base_uri": "https://localhost:8080/"
        },
        "id": "wcEpuI0_4TxE",
        "outputId": "edea2550-f2f5-469a-e1c2-995160f1902b"
      },
      "execution_count": 118,
      "outputs": [
        {
          "output_type": "execute_result",
          "data": {
            "text/plain": [
              "[10, 9, 8, 7, 6, 5, 4, 3, 2, 1, 7, 9, 8, 10]"
            ]
          },
          "metadata": {},
          "execution_count": 118
        }
      ]
    },
    {
      "cell_type": "code",
      "source": [
        "ap.sort(reverse = True)\n",
        "ap"
      ],
      "metadata": {
        "colab": {
          "base_uri": "https://localhost:8080/"
        },
        "id": "7P2MSG-s5KR4",
        "outputId": "79a0d6f7-6fdd-41d4-e168-7f91c4a90b0b"
      },
      "execution_count": 119,
      "outputs": [
        {
          "output_type": "execute_result",
          "data": {
            "text/plain": [
              "[10, 10, 9, 9, 8, 8, 7, 7, 6, 5, 4, 3, 2, 1]"
            ]
          },
          "metadata": {},
          "execution_count": 119
        }
      ]
    },
    {
      "cell_type": "code",
      "source": [
        "# ap.clear()"
      ],
      "metadata": {
        "id": "sx6u7Tl84Uwv"
      },
      "execution_count": null,
      "outputs": []
    },
    {
      "cell_type": "code",
      "source": [
        "# create a list\n",
        "num = [3, 4, 2, 1, 5]"
      ],
      "metadata": {
        "id": "iDW8N8Ez4fMg"
      },
      "execution_count": 101,
      "outputs": []
    },
    {
      "cell_type": "code",
      "source": [
        "num.sort()\n",
        "num"
      ],
      "metadata": {
        "colab": {
          "base_uri": "https://localhost:8080/"
        },
        "id": "VxkKdWdL4v-Q",
        "outputId": "cfb5c869-2fe7-4911-9b21-04ea38a3f083"
      },
      "execution_count": 102,
      "outputs": [
        {
          "output_type": "execute_result",
          "data": {
            "text/plain": [
              "[1, 2, 3, 4, 5]"
            ]
          },
          "metadata": {},
          "execution_count": 102
        }
      ]
    },
    {
      "cell_type": "code",
      "source": [
        "num = [5, 3, 4, 2, 1]"
      ],
      "metadata": {
        "id": "jf8ZgeZN46mx"
      },
      "execution_count": 114,
      "outputs": []
    },
    {
      "cell_type": "code",
      "source": [
        "num.reverse()"
      ],
      "metadata": {
        "id": "FgrXseIt5Y9f"
      },
      "execution_count": 115,
      "outputs": []
    },
    {
      "cell_type": "code",
      "source": [
        "num"
      ],
      "metadata": {
        "colab": {
          "base_uri": "https://localhost:8080/"
        },
        "id": "HMsXCZrp540n",
        "outputId": "640d3045-e6b3-4c4e-b529-8dc9ea924c62"
      },
      "execution_count": 116,
      "outputs": [
        {
          "output_type": "execute_result",
          "data": {
            "text/plain": [
              "[1, 2, 4, 3, 5]"
            ]
          },
          "metadata": {},
          "execution_count": 116
        }
      ]
    },
    {
      "cell_type": "code",
      "source": [
        "num_copy = num.copy()\n",
        "num_copy"
      ],
      "metadata": {
        "colab": {
          "base_uri": "https://localhost:8080/"
        },
        "id": "NHMHjhJ_5_-9",
        "outputId": "a34a3ad6-0189-4a43-cdfb-b820cf119fe7"
      },
      "execution_count": 120,
      "outputs": [
        {
          "output_type": "execute_result",
          "data": {
            "text/plain": [
              "[1, 2, 4, 3, 5]"
            ]
          },
          "metadata": {},
          "execution_count": 120
        }
      ]
    },
    {
      "cell_type": "code",
      "source": [],
      "metadata": {
        "id": "WJd9MGDT6yGC"
      },
      "execution_count": null,
      "outputs": []
    }
  ]
}