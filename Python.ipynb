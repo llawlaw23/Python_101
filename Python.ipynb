{
  "nbformat": 4,
  "nbformat_minor": 0,
  "metadata": {
    "colab": {
      "provenance": [],
      "authorship_tag": "ABX9TyMVYOzylnUpFpAMeL0AAimu",
      "include_colab_link": true
    },
    "kernelspec": {
      "name": "python3",
      "display_name": "Python 3"
    },
    "language_info": {
      "name": "python"
    }
  },
  "cells": [
    {
      "cell_type": "markdown",
      "metadata": {
        "id": "view-in-github",
        "colab_type": "text"
      },
      "source": [
        "<a href=\"https://colab.research.google.com/github/llawlaw23/Python_101/blob/main/Python.ipynb\" target=\"_parent\"><img src=\"https://colab.research.google.com/assets/colab-badge.svg\" alt=\"Open In Colab\"/></a>"
      ]
    },
    {
      "cell_type": "markdown",
      "source": [
        "Datatypes and variables"
      ],
      "metadata": {
        "id": "6j9VJzIt4U_r"
      }
    },
    {
      "cell_type": "code",
      "source": [
        "print(\"Hello World\")"
      ],
      "metadata": {
        "colab": {
          "base_uri": "https://localhost:8080/"
        },
        "id": "pwihCN163wwD",
        "outputId": "966d4257-8520-4e7c-cca1-c9c1de54774e"
      },
      "execution_count": null,
      "outputs": [
        {
          "output_type": "stream",
          "name": "stdout",
          "text": [
            "Hello World\n"
          ]
        }
      ]
    },
    {
      "cell_type": "code",
      "source": [
        "print(5 + 4)"
      ],
      "metadata": {
        "colab": {
          "base_uri": "https://localhost:8080/"
        },
        "id": "QB2tf6ak4uDk",
        "outputId": "372ebb7b-911c-4900-f49b-87c71f55933b"
      },
      "execution_count": null,
      "outputs": [
        {
          "output_type": "stream",
          "name": "stdout",
          "text": [
            "9\n"
          ]
        }
      ]
    },
    {
      "cell_type": "code",
      "source": [
        "num1 = 5\n",
        "num2 = 4\n",
        "sum = num1 + num2\n",
        "print(sum)"
      ],
      "metadata": {
        "colab": {
          "base_uri": "https://localhost:8080/"
        },
        "id": "UrGzMwN55v4Y",
        "outputId": "e6c9bdd0-fbf9-4a3e-bf48-5ca08729da9a"
      },
      "execution_count": null,
      "outputs": [
        {
          "output_type": "stream",
          "name": "stdout",
          "text": [
            "9\n"
          ]
        }
      ]
    },
    {
      "cell_type": "code",
      "source": [
        "sum"
      ],
      "metadata": {
        "colab": {
          "base_uri": "https://localhost:8080/"
        },
        "id": "OhkYBXjD64N1",
        "outputId": "f38853d4-4475-46e7-8cb1-49a1ca3b7da0"
      },
      "execution_count": null,
      "outputs": [
        {
          "output_type": "execute_result",
          "data": {
            "text/plain": [
              "9"
            ]
          },
          "metadata": {},
          "execution_count": 33
        }
      ]
    },
    {
      "cell_type": "code",
      "source": [
        "law = \"Theresa\"\n",
        "tess = \"'s\""
      ],
      "metadata": {
        "id": "_JcwK1LZ7BAE"
      },
      "execution_count": null,
      "outputs": []
    },
    {
      "cell_type": "code",
      "source": [
        "law"
      ],
      "metadata": {
        "colab": {
          "base_uri": "https://localhost:8080/",
          "height": 35
        },
        "id": "tIWfKSXUEyOv",
        "outputId": "96329965-296f-426a-c1a3-acb64116d395"
      },
      "execution_count": null,
      "outputs": [
        {
          "output_type": "execute_result",
          "data": {
            "text/plain": [
              "'Theresa'"
            ],
            "application/vnd.google.colaboratory.intrinsic+json": {
              "type": "string"
            }
          },
          "metadata": {},
          "execution_count": 32
        }
      ]
    },
    {
      "cell_type": "code",
      "source": [
        "# print Theresa's\n",
        "# what concatenation means\n",
        "print(law + tess)\n",
        "print(\"Theresa\" + \"'s\")"
      ],
      "metadata": {
        "colab": {
          "base_uri": "https://localhost:8080/"
        },
        "id": "l1kGI2jz7M_3",
        "outputId": "dfee60d6-7f0e-42d9-e278-a006603a37be"
      },
      "execution_count": null,
      "outputs": [
        {
          "output_type": "stream",
          "name": "stdout",
          "text": [
            "Theresa's\n"
          ]
        }
      ]
    },
    {
      "cell_type": "code",
      "source": [
        "print(\"Theresa\\'s\")"
      ],
      "metadata": {
        "colab": {
          "base_uri": "https://localhost:8080/"
        },
        "id": "5LRt6kKx8rX6",
        "outputId": "d2aeeb0a-566d-4118-8703-2e35a0cff15e"
      },
      "execution_count": null,
      "outputs": [
        {
          "output_type": "stream",
          "name": "stdout",
          "text": [
            "Theresa's\n"
          ]
        }
      ]
    },
    {
      "cell_type": "code",
      "source": [
        "# Numerical Data\n",
        "# Exponent = **"
      ],
      "metadata": {
        "colab": {
          "base_uri": "https://localhost:8080/"
        },
        "id": "EDMNRzuE9Xjm",
        "outputId": "1760293e-7579-4850-875f-5e50cf297a5a"
      },
      "execution_count": null,
      "outputs": [
        {
          "output_type": "stream",
          "name": "stdout",
          "text": [
            "8\n"
          ]
        }
      ]
    },
    {
      "cell_type": "code",
      "source": [
        "name = \"Tess\"\n",
        "age = 24\n",
        "height = 5.5\n",
        "is_student = True"
      ],
      "metadata": {
        "id": "k3kEe3gd_NaL"
      },
      "execution_count": null,
      "outputs": []
    },
    {
      "cell_type": "code",
      "source": [
        "print(\"student Name:\",name)\n",
        "print(\"Studenet age:\", age)\n",
        "print(\"student height:\", height)\n",
        "print(\"is she a student:\", is_student)"
      ],
      "metadata": {
        "colab": {
          "base_uri": "https://localhost:8080/"
        },
        "id": "iPkRGoQ6Fg4b",
        "outputId": "e88e50dd-7564-4000-e25f-3752ebe88c1e"
      },
      "execution_count": null,
      "outputs": [
        {
          "output_type": "stream",
          "name": "stdout",
          "text": [
            "student Name: Tess\n",
            "Studenet age: 24\n",
            "student height: 5.5\n",
            "is she a student: True\n"
          ]
        }
      ]
    },
    {
      "cell_type": "code",
      "source": [
        "# Checking for datatypes\n",
        "print(type(name))\n",
        "print(type(age))\n",
        "print(type(height))\n",
        "print(type(is_student))"
      ],
      "metadata": {
        "colab": {
          "base_uri": "https://localhost:8080/"
        },
        "id": "wKNHbroxFyLo",
        "outputId": "7940cea6-f7cd-4a7e-bb19-b8b301768d54"
      },
      "execution_count": null,
      "outputs": [
        {
          "output_type": "stream",
          "name": "stdout",
          "text": [
            "<class 'str'>\n",
            "<class 'int'>\n",
            "<class 'float'>\n",
            "<class 'bool'>\n"
          ]
        }
      ]
    },
    {
      "cell_type": "code",
      "source": [
        "type(name)"
      ],
      "metadata": {
        "colab": {
          "base_uri": "https://localhost:8080/"
        },
        "id": "BXo3MnXpHvRN",
        "outputId": "a1aceac1-9392-4e8b-c813-873dab8d45a0"
      },
      "execution_count": null,
      "outputs": [
        {
          "output_type": "execute_result",
          "data": {
            "text/plain": [
              "str"
            ]
          },
          "metadata": {},
          "execution_count": 59
        }
      ]
    },
    {
      "cell_type": "code",
      "source": [
        "# Undeerstanding the input function\n",
        "name = input(\"Enter your name: \")\n",
        "age = input(\"Enter your age: \")\n",
        "\n",
        "print(\"Hello\", name + \", you are\", age , \"years old\")"
      ],
      "metadata": {
        "colab": {
          "base_uri": "https://localhost:8080/"
        },
        "id": "kW5tidXCI3ie",
        "outputId": "b2882b44-4407-4d49-ab0f-9e1c12f80e75"
      },
      "execution_count": null,
      "outputs": [
        {
          "output_type": "stream",
          "name": "stdout",
          "text": [
            "Enter your name: Tess\n",
            "Enter your age: 22\n",
            "Hello Tess, you are 22 years old\n"
          ]
        }
      ]
    },
    {
      "cell_type": "code",
      "source": [
        "print(f\"Hello {name}, you are {age} years old\")"
      ],
      "metadata": {
        "colab": {
          "base_uri": "https://localhost:8080/"
        },
        "id": "hGzC6i3kvWrN",
        "outputId": "9d834938-38b6-4a83-ea05-62269fc6008a"
      },
      "execution_count": null,
      "outputs": [
        {
          "output_type": "stream",
          "name": "stdout",
          "text": [
            "Hello Tess, you are 22 years old\n"
          ]
        }
      ]
    },
    {
      "cell_type": "code",
      "source": [
        "num1 = str(input(\"Enter your first number\"))\n",
        "num2 = str(input(\"Enter your second number\"))\n",
        "\n",
        "print(num1 + num2)"
      ],
      "metadata": {
        "colab": {
          "base_uri": "https://localhost:8080/"
        },
        "id": "LUxDedlmJfw5",
        "outputId": "a9a11af9-9a04-4859-e308-42db20044355"
      },
      "execution_count": null,
      "outputs": [
        {
          "output_type": "stream",
          "name": "stdout",
          "text": [
            "Enter your first number3\n",
            "Enter your second number4\n",
            "34\n"
          ]
        }
      ]
    },
    {
      "cell_type": "code",
      "source": [
        "3num1"
      ],
      "metadata": {
        "colab": {
          "base_uri": "https://localhost:8080/"
        },
        "id": "3pM3RtxCKvjQ",
        "outputId": "75a9b501-4050-4d8c-f89d-e726920d0fd9"
      },
      "execution_count": null,
      "outputs": [
        {
          "output_type": "execute_result",
          "data": {
            "text/plain": [
              "23.0"
            ]
          },
          "metadata": {},
          "execution_count": 66
        }
      ]
    },
    {
      "cell_type": "code",
      "source": [
        "num1 = float(input(\"Enter your first number:\" ))\n",
        "num2 = float(input(\"Enter your second number:\" ))\n",
        "\n",
        "print(num1 + num2)"
      ],
      "metadata": {
        "colab": {
          "base_uri": "https://localhost:8080/"
        },
        "id": "SZKkDCyXKwjh",
        "outputId": "764b7d79-a980-4d55-b501-dce28eac9520"
      },
      "execution_count": null,
      "outputs": [
        {
          "output_type": "stream",
          "name": "stdout",
          "text": [
            "Enter your first number:24\n",
            "Enter your second number:23\n",
            "47.0\n"
          ]
        }
      ]
    },
    {
      "cell_type": "code",
      "source": [
        "# Operators\n",
        "# Arithmetic, compasrison, logical\n",
        "a = 10\n",
        "b = 3\n",
        "\n",
        "print(a + b)\n",
        "print(a - b)\n",
        "print(a * b)\n",
        "print(a / b)\n",
        "print(a % b)\n",
        "print(a // b)\n",
        "print(a ** b)\n",
        "print(a > b)"
      ],
      "metadata": {
        "colab": {
          "base_uri": "https://localhost:8080/"
        },
        "id": "FhiAYAk8L1qM",
        "outputId": "f513f381-c282-4b91-916f-71724525117d"
      },
      "execution_count": null,
      "outputs": [
        {
          "output_type": "stream",
          "name": "stdout",
          "text": [
            "13\n",
            "7\n",
            "30\n",
            "3.3333333333333335\n",
            "1\n",
            "3\n",
            "1000\n",
            "True\n"
          ]
        }
      ]
    },
    {
      "cell_type": "code",
      "source": [
        "# Example of logical operator\n",
        "1 == 1\n",
        "2 == 2"
      ],
      "metadata": {
        "colab": {
          "base_uri": "https://localhost:8080/"
        },
        "id": "m2e8opELNcT4",
        "outputId": "c6b6ee4f-3cfb-4a46-b99c-95dceafd2717"
      },
      "execution_count": null,
      "outputs": [
        {
          "output_type": "execute_result",
          "data": {
            "text/plain": [
              "True"
            ]
          },
          "metadata": {},
          "execution_count": 3
        }
      ]
    },
    {
      "cell_type": "markdown",
      "source": [
        "Bytes"
      ],
      "metadata": {
        "id": "m9WbPHdbIK3_"
      }
    },
    {
      "cell_type": "code",
      "source": [
        "# they are used to  work with binary data\n",
        "bytes(4)"
      ],
      "metadata": {
        "id": "p12WKowpnQ8Y",
        "colab": {
          "base_uri": "https://localhost:8080/"
        },
        "outputId": "db6c645b-02f7-4a68-f3cd-bf62dd229561"
      },
      "execution_count": null,
      "outputs": [
        {
          "output_type": "execute_result",
          "data": {
            "text/plain": [
              "b'\\x00\\x00\\x00\\x00'"
            ]
          },
          "metadata": {},
          "execution_count": 4
        }
      ]
    },
    {
      "cell_type": "code",
      "source": [
        "law = \"Hello World\"\n",
        "my_bytes = bytes(law, \"utf-8\")\n",
        "print(my_bytes)"
      ],
      "metadata": {
        "colab": {
          "base_uri": "https://localhost:8080/"
        },
        "id": "aCndf9_VKhcp",
        "outputId": "03bb1ddd-62e4-4d99-8862-da74c6e3e201"
      },
      "execution_count": null,
      "outputs": [
        {
          "output_type": "stream",
          "name": "stdout",
          "text": [
            "b'Hello World'\n"
          ]
        }
      ]
    },
    {
      "cell_type": "code",
      "source": [
        "my_bytes = bytes([72, 65, 68])\n",
        "print(my_bytes)"
      ],
      "metadata": {
        "colab": {
          "base_uri": "https://localhost:8080/"
        },
        "id": "e_bR8iOBMViQ",
        "outputId": "2a98d557-7a77-4221-c3bf-a9802c7f0970"
      },
      "execution_count": null,
      "outputs": [
        {
          "output_type": "stream",
          "name": "stdout",
          "text": [
            "b'HAD'\n"
          ]
        }
      ]
    },
    {
      "cell_type": "code",
      "source": [
        "smileyBytes = bytearray('🙄', 'utf-8')"
      ],
      "metadata": {
        "id": "vHi0sLuGNXwf"
      },
      "execution_count": null,
      "outputs": []
    },
    {
      "cell_type": "code",
      "source": [
        "smileyBytes[3] = int(\"85\", 16)\n",
        "print(smileyBytes)"
      ],
      "metadata": {
        "colab": {
          "base_uri": "https://localhost:8080/"
        },
        "id": "FQoYcxj3Mzaj",
        "outputId": "26efc056-c13d-45fb-b074-6e4d7e4cdc0d"
      },
      "execution_count": null,
      "outputs": [
        {
          "output_type": "stream",
          "name": "stdout",
          "text": [
            "bytearray(b'\\xf0\\x9f\\x99\\x85')\n"
          ]
        }
      ]
    },
    {
      "cell_type": "code",
      "source": [
        "smileyBytes.decode('utf-8')"
      ],
      "metadata": {
        "colab": {
          "base_uri": "https://localhost:8080/",
          "height": 35
        },
        "id": "jgavsnNtNbpB",
        "outputId": "5a3b3ddc-6011-422d-b758-f095508a6b2c"
      },
      "execution_count": null,
      "outputs": [
        {
          "output_type": "execute_result",
          "data": {
            "text/plain": [
              "'🙅'"
            ],
            "application/vnd.google.colaboratory.intrinsic+json": {
              "type": "string"
            }
          },
          "metadata": {},
          "execution_count": 21
        }
      ]
    },
    {
      "cell_type": "markdown",
      "source": [
        "Data Structures\n",
        "- List\n",
        "- sets\n",
        "- tuples\n",
        "- dictionaries\n",
        "- slicing and indexing"
      ],
      "metadata": {
        "id": "RH7e4DBQkMy7"
      }
    },
    {
      "cell_type": "markdown",
      "source": [
        "datatypes you can index\n",
        "- string\n",
        "- list"
      ],
      "metadata": {
        "id": "0EIkCA7Frxeg"
      }
    },
    {
      "cell_type": "code",
      "source": [
        "my_list =[1, 2, 3, 4, 5, 6, 7, 8, 9, 10]"
      ],
      "metadata": {
        "id": "LzqDIpwgvPky"
      },
      "execution_count": null,
      "outputs": []
    },
    {
      "cell_type": "code",
      "source": [
        "law = \"lawrencia\""
      ],
      "metadata": {
        "id": "upzbsNHtrdrR"
      },
      "execution_count": null,
      "outputs": []
    },
    {
      "cell_type": "code",
      "source": [
        "law[3]"
      ],
      "metadata": {
        "colab": {
          "base_uri": "https://localhost:8080/",
          "height": 35
        },
        "id": "XFDjDPYcrgVa",
        "outputId": "f9136be7-96f3-4a19-c45c-b50fc64f6255"
      },
      "execution_count": null,
      "outputs": [
        {
          "output_type": "execute_result",
          "data": {
            "text/plain": [
              "'r'"
            ],
            "application/vnd.google.colaboratory.intrinsic+json": {
              "type": "string"
            }
          },
          "metadata": {},
          "execution_count": 23
        }
      ]
    },
    {
      "cell_type": "code",
      "source": [
        "type(my_list)"
      ],
      "metadata": {
        "colab": {
          "base_uri": "https://localhost:8080/"
        },
        "id": "adBy5CenpbXQ",
        "outputId": "4849bb5a-43b2-43cf-a5bd-9cd1221a3308"
      },
      "execution_count": null,
      "outputs": [
        {
          "output_type": "execute_result",
          "data": {
            "text/plain": [
              "list"
            ]
          },
          "metadata": {},
          "execution_count": 6
        }
      ]
    },
    {
      "cell_type": "code",
      "source": [
        "my_list = [\"my\", \"name\", \"is\", \"tess\"]"
      ],
      "metadata": {
        "id": "yoJBB6Ocpd4P"
      },
      "execution_count": null,
      "outputs": []
    },
    {
      "cell_type": "code",
      "source": [
        "my_list = [True, 1, [1, 2, 3, 4], \"my\"]"
      ],
      "metadata": {
        "id": "XeW--rEipsVv"
      },
      "execution_count": null,
      "outputs": []
    },
    {
      "cell_type": "code",
      "source": [
        "len(my_list)"
      ],
      "metadata": {
        "colab": {
          "base_uri": "https://localhost:8080/"
        },
        "id": "rStkh2LJpxev",
        "outputId": "c88fa1f9-95ac-4348-ba2a-b0d419719f6c"
      },
      "execution_count": null,
      "outputs": [
        {
          "output_type": "execute_result",
          "data": {
            "text/plain": [
              "4"
            ]
          },
          "metadata": {},
          "execution_count": 12
        }
      ]
    },
    {
      "cell_type": "code",
      "source": [
        "my_list =[1, 2, 3, 1, 2, 3, 4, 5, 6, 7, 8, 9, 10]"
      ],
      "metadata": {
        "id": "FzcLeARmO2lh"
      },
      "execution_count": null,
      "outputs": []
    },
    {
      "cell_type": "code",
      "source": [
        "len(my_list)"
      ],
      "metadata": {
        "colab": {
          "base_uri": "https://localhost:8080/"
        },
        "id": "vP1X1acLxBH_",
        "outputId": "dd88f8c2-ff68-46a9-add9-d21d6baf35be"
      },
      "execution_count": null,
      "outputs": [
        {
          "output_type": "execute_result",
          "data": {
            "text/plain": [
              "13"
            ]
          },
          "metadata": {},
          "execution_count": 52
        }
      ]
    },
    {
      "cell_type": "code",
      "source": [
        "print(my_list[:2])"
      ],
      "metadata": {
        "colab": {
          "base_uri": "https://localhost:8080/"
        },
        "id": "XuJDCAI0qH7F",
        "outputId": "d8163822-642a-4d70-9b3d-df771491794f"
      },
      "execution_count": null,
      "outputs": [
        {
          "output_type": "stream",
          "name": "stdout",
          "text": [
            "[1, 2]\n"
          ]
        }
      ]
    },
    {
      "cell_type": "code",
      "source": [
        "print(my_list[2:])"
      ],
      "metadata": {
        "colab": {
          "base_uri": "https://localhost:8080/"
        },
        "id": "EPb3vzmNuE2a",
        "outputId": "1a389481-ba59-495c-f00b-8578d198d777"
      },
      "execution_count": null,
      "outputs": [
        {
          "output_type": "stream",
          "name": "stdout",
          "text": [
            "[3, 4, 5, 6, 7, 8, 9, 10]\n"
          ]
        }
      ]
    },
    {
      "cell_type": "code",
      "source": [
        "# my_list[start:stop:step]\n",
        "print(my_list[1:10:2])"
      ],
      "metadata": {
        "colab": {
          "base_uri": "https://localhost:8080/"
        },
        "id": "hVUWNJR_sjfS",
        "outputId": "ce6dd448-4cd0-4ce4-8573-e0f9e2207e72"
      },
      "execution_count": null,
      "outputs": [
        {
          "output_type": "stream",
          "name": "stdout",
          "text": [
            "[2, 4, 6, 8, 10]\n"
          ]
        }
      ]
    },
    {
      "cell_type": "code",
      "source": [
        "my_list[-3]"
      ],
      "metadata": {
        "colab": {
          "base_uri": "https://localhost:8080/"
        },
        "id": "nCI7boMktNh1",
        "outputId": "8ae9a28d-5c0b-45ff-920d-54a101f9062a"
      },
      "execution_count": null,
      "outputs": [
        {
          "output_type": "execute_result",
          "data": {
            "text/plain": [
              "8"
            ]
          },
          "metadata": {},
          "execution_count": 40
        }
      ]
    },
    {
      "cell_type": "markdown",
      "source": [
        "List Comprehensions"
      ],
      "metadata": {
        "id": "9VtsnQNjN_HH"
      }
    },
    {
      "cell_type": "code",
      "source": [
        "mylist = [1, 2, 3, 4, 5]\n",
        "[2 * item for item in mylist]"
      ],
      "metadata": {
        "colab": {
          "base_uri": "https://localhost:8080/"
        },
        "id": "aTUUZiiAN-bx",
        "outputId": "1da0b23f-62cc-4027-97eb-104272a5e2fd"
      },
      "execution_count": null,
      "outputs": [
        {
          "output_type": "execute_result",
          "data": {
            "text/plain": [
              "[2, 4, 6, 8, 10]"
            ]
          },
          "metadata": {},
          "execution_count": 26
        }
      ]
    },
    {
      "cell_type": "markdown",
      "source": [
        "List Comprehensions with filters"
      ],
      "metadata": {
        "id": "7OUP3Xy7O8kR"
      }
    },
    {
      "cell_type": "code",
      "source": [
        "mylist = list(range(100))\n",
        "filteredlist = [item for item in mylist if item % 5 == 0]\n",
        "filteredlist"
      ],
      "metadata": {
        "colab": {
          "base_uri": "https://localhost:8080/"
        },
        "id": "ETUiELX4OcgG",
        "outputId": "ed9a92f9-bf41-415b-d17b-9e9df57c58a3"
      },
      "execution_count": null,
      "outputs": [
        {
          "output_type": "execute_result",
          "data": {
            "text/plain": [
              "[0, 5, 10, 15, 20, 25, 30, 35, 40, 45, 50, 55, 60, 65, 70, 75, 80, 85, 90, 95]"
            ]
          },
          "metadata": {},
          "execution_count": 32
        }
      ]
    },
    {
      "cell_type": "code",
      "source": [
        "filterlist = [item for item in mylist if item % 6 == 0]\n",
        "filterlist"
      ],
      "metadata": {
        "colab": {
          "base_uri": "https://localhost:8080/"
        },
        "id": "kQWZ8p9kQH-x",
        "outputId": "0095ccda-012a-47be-e411-6d713bdd4f60"
      },
      "execution_count": null,
      "outputs": [
        {
          "output_type": "execute_result",
          "data": {
            "text/plain": [
              "[0, 6, 12, 18, 24, 30, 36, 42, 48, 54, 60, 66, 72, 78, 84, 90, 96]"
            ]
          },
          "metadata": {},
          "execution_count": 34
        }
      ]
    },
    {
      "cell_type": "markdown",
      "source": [
        "List Comprehensions with functions"
      ],
      "metadata": {
        "id": "-FnZM1SQQhJA"
      }
    },
    {
      "cell_type": "code",
      "source": [
        "print(\"apple\", \"banana\", \"kiwi\", sep = \", \")"
      ],
      "metadata": {
        "colab": {
          "base_uri": "https://localhost:8080/"
        },
        "id": "_R74bsoqSEjJ",
        "outputId": "85a76c76-f65b-4ec3-fbf9-eca2ab1f85d2"
      },
      "execution_count": null,
      "outputs": [
        {
          "output_type": "stream",
          "name": "stdout",
          "text": [
            "apple, banana, kiwi\n"
          ]
        }
      ]
    },
    {
      "cell_type": "code",
      "source": [
        "cas = \"apple banana kiwi\"\n",
        "print(cas.upper())"
      ],
      "metadata": {
        "colab": {
          "base_uri": "https://localhost:8080/"
        },
        "id": "RaZ0N82wSvyH",
        "outputId": "de3fed23-efc2-43e8-9c8e-e31e9756f701"
      },
      "execution_count": 51,
      "outputs": [
        {
          "output_type": "stream",
          "name": "stdout",
          "text": [
            "APPLE BANANA KIWI\n"
          ]
        }
      ]
    },
    {
      "cell_type": "code",
      "source": [
        "cas = \"Apple Banana Kiwi\"\n",
        "print(cas.lower())"
      ],
      "metadata": {
        "colab": {
          "base_uri": "https://localhost:8080/"
        },
        "id": "2hiMrP6NTGBp",
        "outputId": "fd5afc31-740a-4cb2-e9f4-29f87e6a2f57"
      },
      "execution_count": 52,
      "outputs": [
        {
          "output_type": "stream",
          "name": "stdout",
          "text": [
            "apple banana kiwi\n"
          ]
        }
      ]
    },
    {
      "cell_type": "code",
      "source": [
        "mystring = \"My name is Theresah I live in Accra \"\n",
        "# mystring.split(\"/\")"
      ],
      "metadata": {
        "colab": {
          "base_uri": "https://localhost:8080/"
        },
        "id": "mThdA7n0Qcba",
        "outputId": "b1d20dc8-7450-4ed9-9458-cec71da9607d"
      },
      "execution_count": 58,
      "outputs": [
        {
          "output_type": "execute_result",
          "data": {
            "text/plain": [
              "['My name is Theresah', ' I live in Accra ']"
            ]
          },
          "metadata": {},
          "execution_count": 58
        }
      ]
    },
    {
      "cell_type": "code",
      "source": [
        "mystring.split()"
      ],
      "metadata": {
        "colab": {
          "base_uri": "https://localhost:8080/"
        },
        "id": "CFHOebeOW4sz",
        "outputId": "f56ae949-72ef-4559-ffb8-99414cc6b32f"
      },
      "execution_count": 53,
      "outputs": [
        {
          "output_type": "execute_result",
          "data": {
            "text/plain": [
              "['My', 'name', 'is', 'Theresah/', 'I', 'live', 'in', 'Accra']"
            ]
          },
          "metadata": {},
          "execution_count": 53
        }
      ]
    },
    {
      "cell_type": "code",
      "source": [
        "def cleanword(word):\n",
        "  return word.replace(\" \", \"\").lower()\n",
        "[cleanword(word) for word in mystring.split()]"
      ],
      "metadata": {
        "colab": {
          "base_uri": "https://localhost:8080/"
        },
        "id": "LnhuCc6LX4bp",
        "outputId": "4b20a4e6-2e74-4e2d-9ce7-312c689bb51f"
      },
      "execution_count": 61,
      "outputs": [
        {
          "output_type": "execute_result",
          "data": {
            "text/plain": [
              "['my', 'name', 'is', 'theresah/', 'i', 'live', 'in', 'accra']"
            ]
          },
          "metadata": {},
          "execution_count": 61
        }
      ]
    },
    {
      "cell_type": "code",
      "source": [
        "[cleanword(word) for word in mystring.split() if len(cleanword(word)) < 3]"
      ],
      "metadata": {
        "colab": {
          "base_uri": "https://localhost:8080/"
        },
        "id": "tqtm7H71Y5SO",
        "outputId": "5e617acd-e8fe-4b69-ce56-0cba47f9a574"
      },
      "execution_count": 62,
      "outputs": [
        {
          "output_type": "execute_result",
          "data": {
            "text/plain": [
              "['my', 'is', 'i', 'in']"
            ]
          },
          "metadata": {},
          "execution_count": 62
        }
      ]
    },
    {
      "cell_type": "markdown",
      "source": [
        "Nested list comprehentsions"
      ],
      "metadata": {
        "id": "JHxfMHizZjUh"
      }
    },
    {
      "cell_type": "code",
      "source": [
        "[cleanword(word) for word in mystring.split()]"
      ],
      "metadata": {
        "id": "EA45AyIhZhu2"
      },
      "execution_count": null,
      "outputs": []
    },
    {
      "cell_type": "markdown",
      "source": [
        "Sets"
      ],
      "metadata": {
        "id": "isCBO1S_vGIL"
      }
    },
    {
      "cell_type": "code",
      "source": [
        "my_set = {1, 2, 3, 1, 2, 4, 5, 6, 3, 4, 5, 7, 8, 9, 10}"
      ],
      "metadata": {
        "id": "QjhlqeTPvCIB"
      },
      "execution_count": null,
      "outputs": []
    },
    {
      "cell_type": "code",
      "source": [
        "len(my_set)"
      ],
      "metadata": {
        "colab": {
          "base_uri": "https://localhost:8080/"
        },
        "id": "8TiUeOcFwmJq",
        "outputId": "8ae78340-6907-4dd2-ef32-c99b11be717b"
      },
      "execution_count": null,
      "outputs": [
        {
          "output_type": "execute_result",
          "data": {
            "text/plain": [
              "10"
            ]
          },
          "metadata": {},
          "execution_count": 50
        }
      ]
    },
    {
      "cell_type": "code",
      "source": [
        "{1, 2, 3, 1, 2,} == {1, 2, 3}"
      ],
      "metadata": {
        "colab": {
          "base_uri": "https://localhost:8080/"
        },
        "id": "ziXnWmNTwpBp",
        "outputId": "b0d83fe3-4075-492a-acef-b74034187262"
      },
      "execution_count": null,
      "outputs": [
        {
          "output_type": "execute_result",
          "data": {
            "text/plain": [
              "True"
            ]
          },
          "metadata": {},
          "execution_count": 53
        }
      ]
    },
    {
      "cell_type": "code",
      "source": [
        "type(my_set)"
      ],
      "metadata": {
        "colab": {
          "base_uri": "https://localhost:8080/"
        },
        "id": "X9y7bYRXxoT4",
        "outputId": "bd3bf781-1e93-4de1-e488-3dc0c1c398bc"
      },
      "execution_count": null,
      "outputs": [
        {
          "output_type": "execute_result",
          "data": {
            "text/plain": [
              "set"
            ]
          },
          "metadata": {},
          "execution_count": 54
        }
      ]
    },
    {
      "cell_type": "code",
      "source": [
        "my_tuple = (1, 2, 3, 1, 2, 4, 5, 6, 3, 4, 5, 7, 8, 9, 10)"
      ],
      "metadata": {
        "id": "-DUNs8Pfx5Xq"
      },
      "execution_count": null,
      "outputs": []
    },
    {
      "cell_type": "code",
      "source": [
        "len(my_tuple)"
      ],
      "metadata": {
        "colab": {
          "base_uri": "https://localhost:8080/"
        },
        "id": "nh-J8LQ-yPzu",
        "outputId": "7cef30d6-d654-4b09-99fc-8b84ba2129fe"
      },
      "execution_count": null,
      "outputs": [
        {
          "output_type": "execute_result",
          "data": {
            "text/plain": [
              "15"
            ]
          },
          "metadata": {},
          "execution_count": 57
        }
      ]
    },
    {
      "cell_type": "markdown",
      "source": [
        "list methods\n",
        "- append\n",
        "- insert\n",
        "- extend\n",
        "- replace\n",
        "- remove\n",
        "- pop\n",
        "- clear\n",
        "- sort and reverse\n",
        "- copy"
      ],
      "metadata": {
        "id": "TgVfY1B3zqhW"
      }
    },
    {
      "cell_type": "code",
      "source": [
        "ap = [1, 2, 3, 4]"
      ],
      "metadata": {
        "id": "qZeMrH13yxL3"
      },
      "execution_count": null,
      "outputs": []
    },
    {
      "cell_type": "code",
      "source": [
        "ap.append(64)"
      ],
      "metadata": {
        "id": "C_Z45X5d0jLR"
      },
      "execution_count": null,
      "outputs": []
    },
    {
      "cell_type": "code",
      "source": [
        "ap"
      ],
      "metadata": {
        "colab": {
          "base_uri": "https://localhost:8080/"
        },
        "id": "KX-ROwTU0zhu",
        "outputId": "746887ad-b5c6-43cd-a8ad-173e6830883c"
      },
      "execution_count": null,
      "outputs": [
        {
          "output_type": "execute_result",
          "data": {
            "text/plain": [
              "[1, 2, 3, 4, 64]"
            ]
          },
          "metadata": {},
          "execution_count": 73
        }
      ]
    },
    {
      "cell_type": "code",
      "source": [
        "ap.insert(2, 7)"
      ],
      "metadata": {
        "id": "miKmnsHV00rN"
      },
      "execution_count": null,
      "outputs": []
    },
    {
      "cell_type": "code",
      "source": [
        "ap"
      ],
      "metadata": {
        "colab": {
          "base_uri": "https://localhost:8080/"
        },
        "id": "EebBZz8e1YP8",
        "outputId": "9e7ac5d6-1e26-452c-ceeb-b39c56278d60"
      },
      "execution_count": null,
      "outputs": [
        {
          "output_type": "execute_result",
          "data": {
            "text/plain": [
              "[1, 2, 7, 3, 4, 64]"
            ]
          },
          "metadata": {},
          "execution_count": 75
        }
      ]
    },
    {
      "cell_type": "code",
      "source": [
        "ap.extend([8, 9, 10])"
      ],
      "metadata": {
        "id": "hboY3n7G1ZVf"
      },
      "execution_count": null,
      "outputs": []
    },
    {
      "cell_type": "code",
      "source": [
        "ap"
      ],
      "metadata": {
        "colab": {
          "base_uri": "https://localhost:8080/"
        },
        "id": "W2PJ3ayr2Yx8",
        "outputId": "85a2450d-0aea-4bb1-dd84-f0d671901054"
      },
      "execution_count": null,
      "outputs": [
        {
          "output_type": "execute_result",
          "data": {
            "text/plain": [
              "[1, 2, 7, 3, 4, 64, 8, 9, 10]"
            ]
          },
          "metadata": {},
          "execution_count": 77
        }
      ]
    },
    {
      "cell_type": "code",
      "source": [
        "ap[5] = 5"
      ],
      "metadata": {
        "id": "9lS39dTP2ZqP"
      },
      "execution_count": null,
      "outputs": []
    },
    {
      "cell_type": "code",
      "source": [
        "ap"
      ],
      "metadata": {
        "colab": {
          "base_uri": "https://localhost:8080/"
        },
        "id": "Bgx7jkDq23GT",
        "outputId": "c10b3f71-28af-4162-84a8-c99873121615"
      },
      "execution_count": null,
      "outputs": [
        {
          "output_type": "execute_result",
          "data": {
            "text/plain": [
              "[1, 2, 7, 3, 4, 5, 8, 9, 10]"
            ]
          },
          "metadata": {},
          "execution_count": 79
        }
      ]
    },
    {
      "cell_type": "code",
      "source": [
        "ap.insert(5, 6)"
      ],
      "metadata": {
        "id": "QTpYuSro24Iz"
      },
      "execution_count": null,
      "outputs": []
    },
    {
      "cell_type": "code",
      "source": [
        "ap"
      ],
      "metadata": {
        "colab": {
          "base_uri": "https://localhost:8080/"
        },
        "id": "qrOlC5TS3Qo9",
        "outputId": "dc5b4246-9d35-4a91-e0ac-e9f0e649ff2a"
      },
      "execution_count": null,
      "outputs": [
        {
          "output_type": "execute_result",
          "data": {
            "text/plain": [
              "[1, 2, 7, 3, 4, 5, 6, 8, 6, 9, 10]"
            ]
          },
          "metadata": {},
          "execution_count": 83
        }
      ]
    },
    {
      "cell_type": "code",
      "source": [
        "ap.remove(7)"
      ],
      "metadata": {
        "id": "tVlA29xx3Rmm"
      },
      "execution_count": null,
      "outputs": []
    },
    {
      "cell_type": "code",
      "source": [
        "law = {1, 2, 3, 4, 5, 6}\n",
        "min = {4, 5, 6, 7, 8, 9}"
      ],
      "metadata": {
        "id": "r3_p1_jEB-Wa"
      },
      "execution_count": null,
      "outputs": []
    },
    {
      "cell_type": "code",
      "source": [
        "# add ten to set law\n",
        "law.add(10)"
      ],
      "metadata": {
        "id": "_ou19gTKCLbp"
      },
      "execution_count": null,
      "outputs": []
    },
    {
      "cell_type": "code",
      "source": [
        "law.remove(3)"
      ],
      "metadata": {
        "id": "mYvj7o9eChDn"
      },
      "execution_count": null,
      "outputs": []
    },
    {
      "cell_type": "code",
      "source": [
        "ap"
      ],
      "metadata": {
        "colab": {
          "base_uri": "https://localhost:8080/"
        },
        "id": "63AmnQuL3hw3",
        "outputId": "1687ce03-8310-4297-97bb-19d42af3dc5a"
      },
      "execution_count": null,
      "outputs": [
        {
          "output_type": "execute_result",
          "data": {
            "text/plain": [
              "[1, 2, 3, 4, 5, 6, 9, 10]"
            ]
          },
          "metadata": {},
          "execution_count": 93
        }
      ]
    },
    {
      "cell_type": "code",
      "source": [
        "ap.pop()"
      ],
      "metadata": {
        "colab": {
          "base_uri": "https://localhost:8080/"
        },
        "id": "aX1cQYt43igT",
        "outputId": "f8e0d087-285e-4730-bdbc-72dfcf0860b7"
      },
      "execution_count": null,
      "outputs": [
        {
          "output_type": "execute_result",
          "data": {
            "text/plain": [
              "9"
            ]
          },
          "metadata": {},
          "execution_count": 96
        }
      ]
    },
    {
      "cell_type": "code",
      "source": [
        "ap"
      ],
      "metadata": {
        "colab": {
          "base_uri": "https://localhost:8080/"
        },
        "id": "b-MTOj084Cua",
        "outputId": "5bafc7eb-5311-4f83-888e-3a46fb7c015e"
      },
      "execution_count": null,
      "outputs": [
        {
          "output_type": "execute_result",
          "data": {
            "text/plain": [
              "[1, 2, 3, 4, 5, 6]"
            ]
          },
          "metadata": {},
          "execution_count": 97
        }
      ]
    },
    {
      "cell_type": "code",
      "source": [
        "ap.extend([7, 9, 8, 10])"
      ],
      "metadata": {
        "id": "ArJasV8X4EJf"
      },
      "execution_count": null,
      "outputs": []
    },
    {
      "cell_type": "code",
      "source": [
        "ap"
      ],
      "metadata": {
        "colab": {
          "base_uri": "https://localhost:8080/"
        },
        "id": "wcEpuI0_4TxE",
        "outputId": "edea2550-f2f5-469a-e1c2-995160f1902b"
      },
      "execution_count": null,
      "outputs": [
        {
          "output_type": "execute_result",
          "data": {
            "text/plain": [
              "[10, 9, 8, 7, 6, 5, 4, 3, 2, 1, 7, 9, 8, 10]"
            ]
          },
          "metadata": {},
          "execution_count": 118
        }
      ]
    },
    {
      "cell_type": "code",
      "source": [
        "ap.sort(reverse = True)\n",
        "ap"
      ],
      "metadata": {
        "colab": {
          "base_uri": "https://localhost:8080/"
        },
        "id": "7P2MSG-s5KR4",
        "outputId": "79a0d6f7-6fdd-41d4-e168-7f91c4a90b0b"
      },
      "execution_count": null,
      "outputs": [
        {
          "output_type": "execute_result",
          "data": {
            "text/plain": [
              "[10, 10, 9, 9, 8, 8, 7, 7, 6, 5, 4, 3, 2, 1]"
            ]
          },
          "metadata": {},
          "execution_count": 119
        }
      ]
    },
    {
      "cell_type": "code",
      "source": [
        "# ap.clear()"
      ],
      "metadata": {
        "id": "sx6u7Tl84Uwv"
      },
      "execution_count": null,
      "outputs": []
    },
    {
      "cell_type": "code",
      "source": [
        "# create a list\n",
        "num = [3, 4, 2, 1, 5]"
      ],
      "metadata": {
        "id": "iDW8N8Ez4fMg"
      },
      "execution_count": null,
      "outputs": []
    },
    {
      "cell_type": "code",
      "source": [
        "num.sort()\n",
        "num"
      ],
      "metadata": {
        "colab": {
          "base_uri": "https://localhost:8080/"
        },
        "id": "VxkKdWdL4v-Q",
        "outputId": "cfb5c869-2fe7-4911-9b21-04ea38a3f083"
      },
      "execution_count": null,
      "outputs": [
        {
          "output_type": "execute_result",
          "data": {
            "text/plain": [
              "[1, 2, 3, 4, 5]"
            ]
          },
          "metadata": {},
          "execution_count": 102
        }
      ]
    },
    {
      "cell_type": "code",
      "source": [
        "num = [5, 3, 4, 2, 1]"
      ],
      "metadata": {
        "id": "jf8ZgeZN46mx"
      },
      "execution_count": null,
      "outputs": []
    },
    {
      "cell_type": "code",
      "source": [
        "num.reverse()"
      ],
      "metadata": {
        "id": "FgrXseIt5Y9f"
      },
      "execution_count": null,
      "outputs": []
    },
    {
      "cell_type": "code",
      "source": [
        "num"
      ],
      "metadata": {
        "colab": {
          "base_uri": "https://localhost:8080/"
        },
        "id": "HMsXCZrp540n",
        "outputId": "640d3045-e6b3-4c4e-b529-8dc9ea924c62"
      },
      "execution_count": null,
      "outputs": [
        {
          "output_type": "execute_result",
          "data": {
            "text/plain": [
              "[1, 2, 4, 3, 5]"
            ]
          },
          "metadata": {},
          "execution_count": 116
        }
      ]
    },
    {
      "cell_type": "code",
      "source": [
        "num_copy = num.copy()\n",
        "num_copy"
      ],
      "metadata": {
        "colab": {
          "base_uri": "https://localhost:8080/"
        },
        "id": "NHMHjhJ_5_-9",
        "outputId": "a34a3ad6-0189-4a43-cdfb-b820cf119fe7"
      },
      "execution_count": null,
      "outputs": [
        {
          "output_type": "execute_result",
          "data": {
            "text/plain": [
              "[1, 2, 4, 3, 5]"
            ]
          },
          "metadata": {},
          "execution_count": 120
        }
      ]
    },
    {
      "cell_type": "markdown",
      "source": [
        "Dictionaries"
      ],
      "metadata": {
        "id": "n2FU5JwS5Cx5"
      }
    },
    {
      "cell_type": "code",
      "source": [
        "my_dict = {\n",
        "    \"Tess\":\"is a girl\",\n",
        "    \"law\": \"is a girl\",\n",
        "    \"apple\": \"is a fruit\"\n",
        "}"
      ],
      "metadata": {
        "id": "WJd9MGDT6yGC"
      },
      "execution_count": null,
      "outputs": []
    },
    {
      "cell_type": "code",
      "source": [
        "my_dict[\"Tess\"]"
      ],
      "metadata": {
        "colab": {
          "base_uri": "https://localhost:8080/",
          "height": 35
        },
        "id": "bOvRZkf9DxJL",
        "outputId": "93e212b5-4848-4028-cbed-f883fd85f197"
      },
      "execution_count": null,
      "outputs": [
        {
          "output_type": "execute_result",
          "data": {
            "text/plain": [
              "'is a girl'"
            ],
            "application/vnd.google.colaboratory.intrinsic+json": {
              "type": "string"
            }
          },
          "metadata": {},
          "execution_count": 19
        }
      ]
    },
    {
      "cell_type": "markdown",
      "source": [
        "Control Flow\n",
        "- simple if\n",
        "- if ---- else\n",
        "- elif (if ----- elif ---- else)\n",
        "- nested if"
      ],
      "metadata": {
        "id": "NrgoKFbMK_0a"
      }
    },
    {
      "cell_type": "code",
      "source": [
        "# An if state takes 2 items ie:\n",
        "# the condition and the action to be performed\n",
        "# eg\n",
        "# if law so is something - condition\n",
        "# print(\"this is is true of false\")"
      ],
      "metadata": {
        "colab": {
          "base_uri": "https://localhost:8080/"
        },
        "id": "WZIFY6EXEmom",
        "outputId": "94bc3564-1320-4b57-9f1e-df9f799d35dc"
      },
      "execution_count": null,
      "outputs": [
        {
          "output_type": "stream",
          "name": "stdout",
          "text": [
            "She is an Adult\n"
          ]
        }
      ]
    },
    {
      "cell_type": "markdown",
      "source": [
        "Simple if\n",
        "- eg"
      ],
      "metadata": {
        "id": "Bl7f5HgKNKC9"
      }
    },
    {
      "cell_type": "code",
      "source": [
        "law =  25\n",
        "\n",
        "if law > 25:\n",
        "  print(\"She is an Adult\")\n",
        "if law == 25:\n",
        "  print(\"She is a Young Adult\")"
      ],
      "metadata": {
        "id": "kywclsM1E7a0",
        "colab": {
          "base_uri": "https://localhost:8080/"
        },
        "outputId": "1464c324-ab4e-484b-b37a-f7f8aeb79e61"
      },
      "execution_count": null,
      "outputs": [
        {
          "output_type": "stream",
          "name": "stdout",
          "text": [
            "She is a Young Adult\n"
          ]
        }
      ]
    },
    {
      "cell_type": "markdown",
      "source": [
        "if -- else"
      ],
      "metadata": {
        "id": "evJ66jT6NYvP"
      }
    },
    {
      "cell_type": "code",
      "source": [
        "# runs one statement if the condition is true and another if the condition is false\n",
        "if law >= 25:\n",
        "  print(\"She is an Adult\")\n",
        "else:\n",
        "  print(\"She is not an Adult\")"
      ],
      "metadata": {
        "colab": {
          "base_uri": "https://localhost:8080/"
        },
        "id": "eya6PSPVNa_H",
        "outputId": "b9d52195-2dc6-4867-c151-582ed397106b"
      },
      "execution_count": null,
      "outputs": [
        {
          "output_type": "stream",
          "name": "stdout",
          "text": [
            "She is an Adult\n"
          ]
        }
      ]
    },
    {
      "cell_type": "markdown",
      "source": [
        "elif"
      ],
      "metadata": {
        "id": "nmN_2FLkNeez"
      }
    },
    {
      "cell_type": "code",
      "source": [
        "# Use multiple conditions to check the same sequence\n",
        "if law >= 25:\n",
        "  print(\"She is an Adult\")\n",
        "elif law >= 18:\n",
        "  print(\"She is a Teenager\")\n",
        "else:\n",
        "  print(\"She is a Child\")"
      ],
      "metadata": {
        "id": "MK0nHq3fNdjx"
      },
      "execution_count": null,
      "outputs": []
    },
    {
      "cell_type": "markdown",
      "source": [
        "nested if"
      ],
      "metadata": {
        "id": "2RU7Yr1oNp0t"
      }
    },
    {
      "cell_type": "code",
      "source": [
        "# An if inside another if.\n",
        "if law >= 25:\n",
        "  print(\"She is an Adult\")\n",
        "  if law >= 20:\n",
        "    print(\"She is a Young Adult\")\n",
        "else:\n",
        "  print(\"She is not an Adult\")"
      ],
      "metadata": {
        "id": "nHIeIb6JNrUZ",
        "colab": {
          "base_uri": "https://localhost:8080/"
        },
        "outputId": "c3aad442-a518-4cb4-b4e5-678f2cb319c5"
      },
      "execution_count": null,
      "outputs": [
        {
          "output_type": "stream",
          "name": "stdout",
          "text": [
            "She is an Adult\n",
            "She is a Young Adult\n"
          ]
        }
      ]
    },
    {
      "cell_type": "code",
      "source": [
        "a = 90\n",
        "b = 60\n",
        "c = 75\n",
        "if a <= 80:\n",
        "  print(\"You have passed\")\n",
        "  print(\"Excellent\")\n",
        "  if b <= 79:\n",
        "    print(\"You performed averagely\")\n",
        "    if c <= 50:\n",
        "      print(\"You failed\")\n",
        "else:\n",
        "  print(\"It is False\")\n",
        "\n",
        "print(\"You are good\")"
      ],
      "metadata": {
        "colab": {
          "base_uri": "https://localhost:8080/"
        },
        "id": "qbrkkCMEZ0BZ",
        "outputId": "7b2f7593-7bbb-48fb-ce71-22dc27fe20a8"
      },
      "execution_count": null,
      "outputs": [
        {
          "output_type": "stream",
          "name": "stdout",
          "text": [
            "It is False\n",
            "You are good\n"
          ]
        }
      ]
    },
    {
      "cell_type": "markdown",
      "source": [
        "Loops\n",
        "- For\n",
        "- While"
      ],
      "metadata": {
        "id": "RNreRpEdecXZ"
      }
    },
    {
      "cell_type": "code",
      "source": [
        "# a for loop goes through( or iterates over) a list, range, sequence\n",
        "a = [1, 2, 3, 4, 5]\n",
        "for number in a:\n",
        "  print(number)"
      ],
      "metadata": {
        "colab": {
          "base_uri": "https://localhost:8080/"
        },
        "id": "5xx7QzNXb3aq",
        "outputId": "abac6a8f-0b3e-4bb3-d580-e7a8aad9fe03"
      },
      "execution_count": null,
      "outputs": [
        {
          "output_type": "stream",
          "name": "stdout",
          "text": [
            "1\n",
            "2\n",
            "3\n",
            "4\n",
            "5\n"
          ]
        }
      ]
    },
    {
      "cell_type": "code",
      "source": [
        "for law in range(6):\n",
        "  print(law)"
      ],
      "metadata": {
        "colab": {
          "base_uri": "https://localhost:8080/"
        },
        "id": "qN_FJBZxe0DI",
        "outputId": "e1c047b0-b1f6-4d5e-d10d-d1e7e8cb0401"
      },
      "execution_count": null,
      "outputs": [
        {
          "output_type": "stream",
          "name": "stdout",
          "text": [
            "0\n",
            "1\n",
            "2\n",
            "3\n",
            "4\n",
            "5\n"
          ]
        }
      ]
    },
    {
      "cell_type": "code",
      "source": [
        "fruits = [\"apple\", \"mango\", \"watermelon\", \"cherry\"]\n",
        "for tess in fruits:\n",
        "  print(\"I like\", tess)"
      ],
      "metadata": {
        "colab": {
          "base_uri": "https://localhost:8080/"
        },
        "id": "QhjRc2cmfYsg",
        "outputId": "b000bd3f-f955-4fff-8dec-5b29acd62b3e"
      },
      "execution_count": null,
      "outputs": [
        {
          "output_type": "stream",
          "name": "stdout",
          "text": [
            "I like apple\n",
            "I like mango\n",
            "I like watermelon\n",
            "I like cherry\n"
          ]
        }
      ]
    },
    {
      "cell_type": "code",
      "source": [
        "# for law in range(2, 30):\n",
        "#   if law % law == 0 & law % 1 == 0:\n",
        "      # print(law)"
      ],
      "metadata": {
        "id": "1HA89yIWgpjm"
      },
      "execution_count": null,
      "outputs": []
    },
    {
      "cell_type": "markdown",
      "source": [
        "While loop"
      ],
      "metadata": {
        "id": "y2IZ6XiRlTDC"
      }
    },
    {
      "cell_type": "code",
      "source": [
        "count = 0\n",
        "while count <=5:\n",
        "  print(\"Counting\", count)\n",
        "  count += 1"
      ],
      "metadata": {
        "id": "QQXmteHxpxy1",
        "colab": {
          "base_uri": "https://localhost:8080/"
        },
        "outputId": "5a6cbc49-5983-4ad6-ad30-2b89a6659b9f"
      },
      "execution_count": null,
      "outputs": [
        {
          "output_type": "stream",
          "name": "stdout",
          "text": [
            "Counting 2\n",
            "Counting 3\n",
            "Counting 4\n",
            "Counting 5\n"
          ]
        }
      ]
    },
    {
      "cell_type": "code",
      "source": [
        "count = count + 1\n",
        "count = 2+1\n",
        "count = 3+1\n",
        "count = 4"
      ],
      "metadata": {
        "id": "QRZpK7iWkZWu"
      },
      "execution_count": null,
      "outputs": []
    },
    {
      "cell_type": "code",
      "source": [
        "# first of you would have to set a count start(where you count will start from)\n",
        "# you set a condition\n",
        "# statements or block of code\n",
        "# arithmetic instruction\n",
        "count = 10\n",
        "while count > 0:\n",
        "  print(\"Counting\",count)\n",
        "  count -= 2"
      ],
      "metadata": {
        "colab": {
          "base_uri": "https://localhost:8080/"
        },
        "id": "C1Advc3DetOV",
        "outputId": "35fb2d0c-ca44-47d2-fad0-cbd2d82f6435"
      },
      "execution_count": null,
      "outputs": [
        {
          "output_type": "stream",
          "name": "stdout",
          "text": [
            "Counting 10\n",
            "Counting 8\n",
            "Counting 6\n",
            "Counting 4\n",
            "Counting 2\n"
          ]
        }
      ]
    },
    {
      "cell_type": "code",
      "source": [
        "count = count - 1\n",
        "count = 5 - 1\n",
        "count = 4 - 1\n",
        "count = 3 - 1\n",
        "count = 2 - 1\n",
        "count = 1 - 1"
      ],
      "metadata": {
        "id": "Y0N735rLfHCJ"
      },
      "execution_count": null,
      "outputs": []
    },
    {
      "cell_type": "code",
      "source": [
        "i = 0\n",
        "while i < 3:\n",
        "  print(\"While loop\", i)\n",
        "  i += 1\n",
        "\n",
        "for i in range(5):\n",
        "  print(\"Tess\", i)"
      ],
      "metadata": {
        "colab": {
          "base_uri": "https://localhost:8080/"
        },
        "id": "E3kRD3kGp7Iy",
        "outputId": "ddc0b806-9729-4e46-bff8-7e0d40237bf4"
      },
      "execution_count": null,
      "outputs": [
        {
          "output_type": "stream",
          "name": "stdout",
          "text": [
            "While loop 0\n",
            "While loop 1\n",
            "While loop 2\n",
            "Tess 0\n",
            "Tess 1\n",
            "Tess 2\n",
            "Tess 3\n",
            "Tess 4\n"
          ]
        }
      ]
    },
    {
      "cell_type": "markdown",
      "source": [
        "Break and continue"
      ],
      "metadata": {
        "id": "rVQZDsixiMIM"
      }
    },
    {
      "cell_type": "code",
      "source": [
        "# a break function stops a loop\n",
        "count = 0\n",
        "while count <= 10:\n",
        "  if count == 7:\n",
        "    break\n",
        "  print(\"Count is\", count)\n",
        "  count += 1"
      ],
      "metadata": {
        "colab": {
          "base_uri": "https://localhost:8080/"
        },
        "id": "M_hsM7-8ieeL",
        "outputId": "6792368a-c497-4fc6-b648-7febc74022b4"
      },
      "execution_count": null,
      "outputs": [
        {
          "output_type": "stream",
          "name": "stdout",
          "text": [
            "Count is 0\n",
            "Count is 1\n",
            "Count is 2\n",
            "Count is 3\n",
            "Count is 4\n"
          ]
        }
      ]
    },
    {
      "cell_type": "code",
      "source": [
        "count = 10\n",
        "while count > 1:\n",
        "  if count == 5:\n",
        "    break\n",
        "  print(\"Count is\", count)\n",
        "  count -= 1"
      ],
      "metadata": {
        "colab": {
          "base_uri": "https://localhost:8080/"
        },
        "id": "1HWLTixukM3w",
        "outputId": "9225c82d-9227-4748-aacc-653831698138"
      },
      "execution_count": null,
      "outputs": [
        {
          "output_type": "stream",
          "name": "stdout",
          "text": [
            "Count is 10\n",
            "Count is 9\n",
            "Count is 8\n",
            "Count is 7\n",
            "Count is 6\n"
          ]
        }
      ]
    },
    {
      "cell_type": "code",
      "source": [
        "count = 0\n",
        "while count < 30:\n",
        "  count += 1\n",
        "  if count % 2 == 0 :\n",
        "    continue\n",
        "  print(\"Count is\", count)"
      ],
      "metadata": {
        "colab": {
          "base_uri": "https://localhost:8080/"
        },
        "id": "ZvHsU7MHlGMS",
        "outputId": "4a474247-93e6-4bfa-99f3-ba8182748d8d"
      },
      "execution_count": null,
      "outputs": [
        {
          "output_type": "stream",
          "name": "stdout",
          "text": [
            "Count is 1\n",
            "Count is 3\n",
            "Count is 5\n",
            "Count is 7\n",
            "Count is 9\n",
            "Count is 11\n",
            "Count is 13\n",
            "Count is 15\n",
            "Count is 17\n",
            "Count is 19\n",
            "Count is 21\n",
            "Count is 23\n",
            "Count is 25\n",
            "Count is 27\n",
            "Count is 29\n"
          ]
        }
      ]
    },
    {
      "cell_type": "markdown",
      "source": [
        "Functions"
      ],
      "metadata": {
        "id": "xH6SJYS0rYR7"
      }
    },
    {
      "cell_type": "code",
      "source": [
        "# function is a block of reusable code that  performs a specific task\n",
        "# def - which is the keyword to define the function\n",
        "# name_of_function() - the name of the function\n",
        "# parameter - a value that is passed into the function when it is called\n",
        "# block code -\n",
        "# return - which is the keyword to return a value from the function/ send the value back to where the function was called\n",
        "\n",
        "def name_of_function():\n",
        "  print(\"Tess\")\n",
        "  return value"
      ],
      "metadata": {
        "id": "SdgJyWierIyB"
      },
      "execution_count": null,
      "outputs": []
    },
    {
      "cell_type": "code",
      "source": [
        "def greetings():\n",
        "  print(\"Hello World\")\n",
        "greetings()"
      ],
      "metadata": {
        "colab": {
          "base_uri": "https://localhost:8080/"
        },
        "id": "OE45kSNBsRX4",
        "outputId": "5970abe9-a4ef-4b87-a6e3-0d97906c9a09"
      },
      "execution_count": null,
      "outputs": [
        {
          "output_type": "stream",
          "name": "stdout",
          "text": [
            "Hello World\n"
          ]
        }
      ]
    },
    {
      "cell_type": "code",
      "source": [
        "def greet_user(name):\n",
        "  greetings = print(\"Hello\", name)\n",
        "  return\n",
        "\n",
        "greet_user(\"Tess\")"
      ],
      "metadata": {
        "colab": {
          "base_uri": "https://localhost:8080/",
          "height": 36
        },
        "id": "1ohGH_1junhU",
        "outputId": "80d194fc-79d5-4655-96d4-c5f1b42126e6"
      },
      "execution_count": null,
      "outputs": [
        {
          "output_type": "execute_result",
          "data": {
            "text/plain": [
              "'law'"
            ],
            "application/vnd.google.colaboratory.intrinsic+json": {
              "type": "string"
            }
          },
          "metadata": {},
          "execution_count": 29
        }
      ]
    },
    {
      "cell_type": "code",
      "source": [
        "# def add(a, b):\n",
        "#     return a + b\n",
        "# result = add(3, 5)\n",
        "# print(result)"
      ],
      "metadata": {
        "colab": {
          "base_uri": "https://localhost:8080/"
        },
        "id": "Ic7q2gopvFjG",
        "outputId": "31a389bc-480c-4c22-f273-48e51c2816e8"
      },
      "execution_count": null,
      "outputs": [
        {
          "output_type": "stream",
          "name": "stdout",
          "text": [
            "8\n"
          ]
        }
      ]
    },
    {
      "cell_type": "code",
      "source": [
        "def add(a, b):\n",
        "  return a + b"
      ],
      "metadata": {
        "id": "Xfm9Kp9Fwu-a"
      },
      "execution_count": null,
      "outputs": []
    },
    {
      "cell_type": "code",
      "source": [
        "add(2, 4)"
      ],
      "metadata": {
        "colab": {
          "base_uri": "https://localhost:8080/"
        },
        "id": "wHG0S9VOxIn5",
        "outputId": "5a51dbfb-777f-4cd4-a445-0e0af904565b"
      },
      "execution_count": null,
      "outputs": [
        {
          "output_type": "execute_result",
          "data": {
            "text/plain": [
              "6"
            ]
          },
          "metadata": {},
          "execution_count": 24
        }
      ]
    },
    {
      "cell_type": "code",
      "source": [
        "def  mult(val):\n",
        "  return 3 * val\n",
        "mult(5)"
      ],
      "metadata": {
        "colab": {
          "base_uri": "https://localhost:8080/"
        },
        "id": "o-_EoIcEyCFp",
        "outputId": "ee03d165-00b8-4166-e4c3-b52b730c845a"
      },
      "execution_count": null,
      "outputs": [
        {
          "output_type": "execute_result",
          "data": {
            "text/plain": [
              "15"
            ]
          },
          "metadata": {},
          "execution_count": 26
        }
      ]
    },
    {
      "cell_type": "code",
      "source": [
        "a = [1, 2, 3, 4, 5]\n",
        "\n",
        "def num(mylist):\n",
        "  mylist.pop()\n",
        "\n",
        "num(a)\n",
        "print(a)"
      ],
      "metadata": {
        "id": "iEj22TE_ygZL",
        "colab": {
          "base_uri": "https://localhost:8080/"
        },
        "outputId": "934284e8-3a57-4aaa-c9f7-635f3c6b6d1d"
      },
      "execution_count": null,
      "outputs": [
        {
          "output_type": "stream",
          "name": "stdout",
          "text": [
            "[1, 2, 3, 4]\n"
          ]
        }
      ]
    },
    {
      "cell_type": "markdown",
      "source": [
        "args (Arbitrary Positional Arguments) and kwargs (Arbitrary Text Arguments)"
      ],
      "metadata": {
        "id": "2ubTvl7Aa4-A"
      }
    },
    {
      "cell_type": "code",
      "source": [
        "# The *args syntax allows a function to accept any number of non-keyword (positional) arguments\n",
        "def performopertions(*number):\n",
        "  total =  sum(number)\n",
        "  print(f\"The sum of {number} is {total}\")\n",
        "performopertions(1, 2, 3)\n",
        "performopertions(10, 20, 30, 40)"
      ],
      "metadata": {
        "colab": {
          "base_uri": "https://localhost:8080/"
        },
        "id": "S3JKPVtHa-po",
        "outputId": "aa4f4ce1-8481-46bd-e4f2-8462f50f56a0"
      },
      "execution_count": 65,
      "outputs": [
        {
          "output_type": "stream",
          "name": "stdout",
          "text": [
            "The sum of (1, 2, 3) is 6\n",
            "The sum of (10, 20, 30, 40) is 100\n"
          ]
        }
      ]
    },
    {
      "cell_type": "code",
      "source": [
        "def performopertions(*args , **kwargs):\n",
        "  print(args)\n",
        "  print(kwargs)\n",
        "  performopertions(1, 2, 3, operation = \"sum\")"
      ],
      "metadata": {
        "id": "2geZXnQYdqW2"
      },
      "execution_count": 72,
      "outputs": []
    },
    {
      "cell_type": "markdown",
      "source": [
        "Classes and Instances"
      ],
      "metadata": {
        "id": "458BLvycpr2q"
      }
    },
    {
      "cell_type": "code",
      "source": [
        "# a class in like a blueprint,  it tells python haow to make something.\n",
        "# __init__ function runs when you make something new, it gives a name to what you are making\n",
        "# self.name means what you are making should remember its name\n",
        "\n",
        "class cat:\n",
        "  def __init__(self, name):\n",
        "    self.name = name\n",
        "    self.legs = 4\n",
        "    self.tail = True\n",
        "    self.ear = 2\n",
        "\n",
        "  def speak(self):\n",
        "    print(self.name + \"Meow\")"
      ],
      "metadata": {
        "id": "ko9nDC-JoHZX"
      },
      "execution_count": null,
      "outputs": []
    },
    {
      "cell_type": "code",
      "source": [
        "# the instance uses your blueprint to create something\n",
        "my_cat = cat(\"Garfield\")"
      ],
      "metadata": {
        "id": "Vvi8yjT_sBRM"
      },
      "execution_count": null,
      "outputs": []
    },
    {
      "cell_type": "code",
      "source": [
        "my_cat.speak()"
      ],
      "metadata": {
        "colab": {
          "base_uri": "https://localhost:8080/"
        },
        "id": "-jCWCCnysUNn",
        "outputId": "4db4ebad-1c8f-46d7-d606-9d50b9fcda7b"
      },
      "execution_count": null,
      "outputs": [
        {
          "output_type": "stream",
          "name": "stdout",
          "text": [
            "Garfieldsays: Meow\n"
          ]
        }
      ]
    },
    {
      "cell_type": "code",
      "source": [
        "my_cat.legs"
      ],
      "metadata": {
        "colab": {
          "base_uri": "https://localhost:8080/"
        },
        "id": "sLDC_iuCsdHy",
        "outputId": "cb0e0cd1-d19f-46ea-b0ff-20182bb11c7b"
      },
      "execution_count": null,
      "outputs": [
        {
          "output_type": "execute_result",
          "data": {
            "text/plain": [
              "4"
            ]
          },
          "metadata": {},
          "execution_count": 24
        }
      ]
    },
    {
      "cell_type": "markdown",
      "source": [
        "creating a menu using the class function"
      ],
      "metadata": {
        "id": "2AbwaaY7tQWb"
      }
    },
    {
      "cell_type": "code",
      "source": [
        "class car:\n",
        "  def __init__(self, brand, color):\n",
        "    self.brand = brand\n",
        "    self.color = color\n",
        "    self.items = {}\n",
        "\n",
        "  def add_vehicle(self, brand, color):\n",
        "    self.items[brand] = color\n",
        "    print(f\"{brand} {color} added to the info\")\n",
        "\n",
        "  def info(self):\n",
        "    print(\"Brand\", self.brand)\n",
        "    print(\"Color\", self.color)"
      ],
      "metadata": {
        "id": "NR1Cm_busmsy"
      },
      "execution_count": null,
      "outputs": []
    },
    {
      "cell_type": "code",
      "source": [
        "my_car = car(\"brand\", \"color\")"
      ],
      "metadata": {
        "id": "F__qlLSeyZzH"
      },
      "execution_count": null,
      "outputs": []
    },
    {
      "cell_type": "code",
      "source": [
        "my_car.add_vehicle(\"Toyota\", \"Red\")\n",
        "my_car.add_vehicle(\"KIA\", \"Blue\")\n",
        "my_car.add_vehicle(\"Corolla\", \"silver\")\n",
        "my_car.add_vehicle(\"Mercedez Benz\", \"black\")\n",
        "my_car.add_vehicle(\"Lexus\", \"white\")"
      ],
      "metadata": {
        "colab": {
          "base_uri": "https://localhost:8080/"
        },
        "id": "I3lsAEgLvRC2",
        "outputId": "94d742bd-4998-4eb4-f7eb-91f7d321aa31"
      },
      "execution_count": null,
      "outputs": [
        {
          "output_type": "stream",
          "name": "stdout",
          "text": [
            "Toyota Red added to the info\n",
            "KIA Blue added to the info\n",
            "Corolla silver added to the info\n",
            "Mercedez Benz black added to the info\n",
            "Lexus white added to the info\n"
          ]
        }
      ]
    },
    {
      "cell_type": "code",
      "source": [
        "my_car.info()"
      ],
      "metadata": {
        "colab": {
          "base_uri": "https://localhost:8080/"
        },
        "id": "8twOdsqWvp2t",
        "outputId": "a32280b5-f1cf-45e7-c562-906a28a4c35c"
      },
      "execution_count": null,
      "outputs": [
        {
          "output_type": "stream",
          "name": "stdout",
          "text": [
            "Brand brand\n",
            "Color color\n"
          ]
        }
      ]
    },
    {
      "cell_type": "code",
      "source": [
        "marks = int(input(\"Enter your marks: \"))\n",
        "\n",
        "if marks >= 80:\n",
        "  print(\"You got an A\")\n",
        "  if marks >= 90:\n",
        "    print(\"You are an Excellent student\")\n",
        "\n"
      ],
      "metadata": {
        "colab": {
          "base_uri": "https://localhost:8080/"
        },
        "id": "zh25_197vwUp",
        "outputId": "6aeae609-cd5f-4f0e-ad95-483471faef85"
      },
      "execution_count": null,
      "outputs": [
        {
          "output_type": "stream",
          "name": "stdout",
          "text": [
            "Enter your marks: 87\n",
            "You got an A\n"
          ]
        }
      ]
    },
    {
      "cell_type": "code",
      "source": [
        "for i  in range(101):\n",
        "  marks = i\n",
        "\n",
        "  if marks >= 80:\n",
        "    print(\"You got an A\")\n",
        "  elif marks >= 70:\n",
        "    print(\"You got a B\")\n",
        "  elif marks >= 60:\n",
        "    print(\"You got a C\")\n",
        "  elif marks >= 50:\n",
        "    print(\"You got a D\")\n",
        "  else:\n",
        "    print(\"You got a F\")"
      ],
      "metadata": {
        "id": "LhsfSN552ICw"
      },
      "execution_count": null,
      "outputs": []
    },
    {
      "cell_type": "markdown",
      "source": [
        "Errors\n",
        "- Syntax Error\n",
        "- Logical Error\n",
        "\n",
        "Exception\n",
        "- performopertions\n",
        "- TypeError\n",
        "- ValueError\n",
        "- NameError\n",
        "- IndexError\n",
        "- KeyError"
      ],
      "metadata": {
        "id": "U379R_nXevxb"
      }
    },
    {
      "cell_type": "code",
      "source": [
        "try:\n",
        "  numerator = int(input(\"Enter a number to divide: \"))\n",
        "  denominator = int(input(\"Enter a number to divide by: \"))\n",
        "  result = numerator / denominator\n",
        "except ZeroDivisionError:\n",
        "  print(\"You can't divide by zero!\")\n",
        "except ValueError:\n",
        "  print(\"Error: Invalid input. Please enter a valid number.\")"
      ],
      "metadata": {
        "id": "da7-0HNi4Ep7",
        "colab": {
          "base_uri": "https://localhost:8080/"
        },
        "outputId": "e4f264ef-0cae-458e-9f2f-fe1f8a827b46"
      },
      "execution_count": 102,
      "outputs": [
        {
          "output_type": "stream",
          "name": "stdout",
          "text": [
            "Enter a number to divide: a\n",
            "Error: Invalid input. Please enter a valid number.\n"
          ]
        }
      ]
    },
    {
      "cell_type": "code",
      "source": [],
      "metadata": {
        "id": "Dg1-nLW5eyq6"
      },
      "execution_count": null,
      "outputs": []
    }
  ]
}