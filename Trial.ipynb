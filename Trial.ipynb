{
  "cells": [
    {
      "cell_type": "markdown",
      "metadata": {
        "id": "view-in-github",
        "colab_type": "text"
      },
      "source": [
        "<a href=\"https://colab.research.google.com/github/llawlaw23/Python_101/blob/main/Trial.ipynb\" target=\"_parent\"><img src=\"https://colab.research.google.com/assets/colab-badge.svg\" alt=\"Open In Colab\"/></a>"
      ]
    },
    {
      "cell_type": "markdown",
      "id": "5493bdf7",
      "metadata": {
        "id": "5493bdf7"
      },
      "source": [
        "## Bad Arguments\n"
      ]
    },
    {
      "cell_type": "markdown",
      "id": "7e61d190",
      "metadata": {
        "id": "7e61d190"
      },
      "source": [
        "### Challenge Hints!\n",
        "\n",
        "**HINT 1:** To be clear, you do need to write your NonIntArgumentException class. I suggest something like:"
      ]
    },
    {
      "cell_type": "code",
      "execution_count": 5,
      "id": "0a0528dc",
      "metadata": {
        "id": "0a0528dc"
      },
      "outputs": [],
      "source": [
        "class NonIntArgumentException(Exception):\n",
        "    pass"
      ]
    },
    {
      "cell_type": "code",
      "source": [
        "class NonIntArgumentException(\"All argument must be integers\")"
      ],
      "metadata": {
        "id": "zS7BRrnP0HNM"
      },
      "id": "zS7BRrnP0HNM",
      "execution_count": null,
      "outputs": []
    },
    {
      "cell_type": "markdown",
      "id": "32f67063",
      "metadata": {
        "id": "32f67063"
      },
      "source": [
        "**HINT 2:** Review the example we used in 08_02_HandlingException.ipynb (copied below). How would you modify this to examine the arguments (args) passed into the function before calling the function?\n"
      ]
    },
    {
      "cell_type": "code",
      "execution_count": 4,
      "id": "23429ac0-a013-4d76-aec7-7f069e66bc9d",
      "metadata": {
        "id": "23429ac0-a013-4d76-aec7-7f069e66bc9d",
        "outputId": "3e352583-a95b-4571-c38f-062696f4328e",
        "colab": {
          "base_uri": "https://localhost:8080/"
        }
      },
      "outputs": [
        {
          "output_type": "stream",
          "name": "stdout",
          "text": [
            "There was a zero division error!\n"
          ]
        }
      ],
      "source": [
        "def handleException(func):\n",
        "    def wrapper(*args):\n",
        "        try:\n",
        "            func(*args)\n",
        "        except TypeError:\n",
        "            print('There was a type error!')\n",
        "        except ZeroDivisionError:\n",
        "            print('There was a zero division error!')\n",
        "        except Exception:\n",
        "            print('There was some sort of error!')\n",
        "    return wrapper\n",
        "\n",
        "@handleException\n",
        "def causeError():\n",
        "    return 1/0\n",
        "\n",
        "causeError()"
      ]
    },
    {
      "cell_type": "markdown",
      "id": "db53f14d",
      "metadata": {
        "id": "db53f14d"
      },
      "source": [
        "**Hint 3:** Remember that args is just an iterable tuple of arguments. You can examine them like this:"
      ]
    },
    {
      "cell_type": "code",
      "execution_count": 1,
      "id": "e80893e9",
      "metadata": {
        "id": "e80893e9",
        "outputId": "21475060-2fd7-4225-c272-ba621d406366",
        "colab": {
          "base_uri": "https://localhost:8080/"
        }
      },
      "outputs": [
        {
          "output_type": "stream",
          "name": "stdout",
          "text": [
            "a is not not an integer!\n"
          ]
        }
      ],
      "source": [
        "args = (1, 2, 3, 'a')\n",
        "\n",
        "for arg in args:\n",
        "    if type(arg) is not int:\n",
        "        print(f'{arg} is not not an integer!')"
      ]
    },
    {
      "cell_type": "code",
      "execution_count": 3,
      "id": "e4f0988b",
      "metadata": {
        "id": "e4f0988b"
      },
      "outputs": [],
      "source": [
        "args = (1, 2, 3, 'a')\n",
        "def validate_integers(*args):\n",
        " for arg in args:\n",
        "    if type(arg) is not int:\n",
        "        print(f'{arg} is not not an integer!')"
      ]
    },
    {
      "cell_type": "code",
      "source": [],
      "metadata": {
        "id": "N64mr6kRzCPa"
      },
      "id": "N64mr6kRzCPa",
      "execution_count": null,
      "outputs": []
    }
  ],
  "metadata": {
    "kernelspec": {
      "display_name": "Python 3 (ipykernel)",
      "language": "python",
      "name": "python3"
    },
    "language_info": {
      "codemirror_mode": {
        "name": "ipython",
        "version": 3
      },
      "file_extension": ".py",
      "mimetype": "text/x-python",
      "name": "python",
      "nbconvert_exporter": "python",
      "pygments_lexer": "ipython3",
      "version": "3.9.13"
    },
    "vscode": {
      "interpreter": {
        "hash": "949777d72b0d2535278d3dc13498b2535136f6dfe0678499012e853ee9abcab1"
      }
    },
    "colab": {
      "provenance": [],
      "include_colab_link": true
    }
  },
  "nbformat": 4,
  "nbformat_minor": 5
}